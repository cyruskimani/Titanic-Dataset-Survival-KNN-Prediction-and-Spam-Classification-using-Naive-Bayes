{
  "nbformat": 4,
  "nbformat_minor": 0,
  "metadata": {
    "colab": {
      "name": "Week 9 Moringa Core IP Cyrus Kimani Part 1 .ipynb",
      "provenance": [],
      "collapsed_sections": [],
      "toc_visible": true,
      "mount_file_id": "1elZCWE6O6mVfcFQWECUDDpgevCduT4q7",
      "authorship_tag": "ABX9TyNFAyP9fYOObNaJ1JR5pMMT",
      "include_colab_link": true
    },
    "kernelspec": {
      "display_name": "Python 3",
      "name": "python3"
    }
  },
  "cells": [
    {
      "cell_type": "markdown",
      "metadata": {
        "id": "view-in-github",
        "colab_type": "text"
      },
      "source": [
        "<a href=\"https://colab.research.google.com/github/cyruskimani/Titanic-Dataset-Survival-KNN-Prediction-and-Spam-Classification-using-Naive-Bayes/blob/main/Week_9_Moringa_Core_IP_Cyrus_Kimani_Part_1_.ipynb\" target=\"_parent\"><img src=\"https://colab.research.google.com/assets/colab-badge.svg\" alt=\"Open In Colab\"/></a>"
      ]
    },
    {
      "cell_type": "markdown",
      "metadata": {
        "id": "jMlG5oYiTF0F"
      },
      "source": [
        "# KNN Classifier for Titanic Survival."
      ]
    },
    {
      "cell_type": "markdown",
      "metadata": {
        "id": "96MvtNc0WQhR"
      },
      "source": [
        "# Defining The Question"
      ]
    },
    {
      "cell_type": "markdown",
      "metadata": {
        "id": "ynbhdyukWnaw"
      },
      "source": [
        "## a) Specifying the Question.\r\n",
        "\r\n",
        "Overview \r\n",
        "\r\n",
        "The Titanic dataset contains detais of passengers who were aboard the ship when it capsized. These details include names, gender, age, etc. it also classifies passengers as having survived or not.\r\n",
        "\r\n",
        "Applying KNN Classification, this project seeks to predict the likelyhood of a passenger's survival based on the features of the dataset.\r\n",
        "\r\n",
        "This notebook contains a KNN Classifier which predicts the survival of passengers on the Titanic\r\n",
        "\r\n",
        "Research Question\r\n",
        "\r\n",
        "Build a model that determines whether or not a passenger survives on the Titanic.\r\n"
      ]
    },
    {
      "cell_type": "markdown",
      "metadata": {
        "id": "CskDyCtsXlhz"
      },
      "source": [
        "## b) Defining the Metrics for Success.\r\n",
        "\r\n",
        "The Accuracy score,f1 score, Precision and Confusion Matrix will be used to evaluate the classification of the of models.\r\n"
      ]
    },
    {
      "cell_type": "markdown",
      "metadata": {
        "id": "b0Izx0hMgsdO"
      },
      "source": [
        "## c) Understanding the context.\r\n",
        "\r\n",
        "The survival of passengers on the titanic was dependent on several factors such as age and gender. \r\n",
        "\r\n",
        "This exercise focuses on classifying the survival of passengers based on the features of the dataset.\r\n"
      ]
    },
    {
      "cell_type": "markdown",
      "metadata": {
        "id": "Q3W9jyb_mmdj"
      },
      "source": [
        "## d) Recording the Experimental Design.\r\n",
        "\r\n",
        "The experimental design for this project will be composed of Exploratory Data Analysis and Prediction Models as shown below.\r\n",
        "\r\n",
        "Exploratory Data Analysis.\r\n",
        "\r\n",
        "* Univariate Analysis.\r\n",
        "* Bivariate Analysis.\r\n",
        "* Multivariate Analysis.\r\n",
        "\r\n",
        "Classification\r\n",
        "\r\n",
        "* K- Nearest Neighbours.\r\n",
        "\r\n"
      ]
    },
    {
      "cell_type": "markdown",
      "metadata": {
        "id": "prmju_7CtBQc"
      },
      "source": [
        "# Importing Libraries."
      ]
    },
    {
      "cell_type": "code",
      "metadata": {
        "id": "bhCuxXRuS5vr"
      },
      "source": [
        "# Importing Libraries.\r\n",
        "import pandas as pd\r\n",
        "import numpy as np\r\n",
        "import seaborn as sns\r\n",
        "import matplotlib\r\n",
        "from matplotlib import pyplot as plt\r\n",
        "%matplotlib inline\r\n",
        "from pandas_profiling import ProfileReport\r\n",
        "import warnings\r\n",
        "warnings.filterwarnings(action = 'ignore')"
      ],
      "execution_count": 1,
      "outputs": []
    },
    {
      "cell_type": "markdown",
      "metadata": {
        "id": "b3El8xrWUmg7"
      },
      "source": [
        "# Loading the datsets"
      ]
    },
    {
      "cell_type": "code",
      "metadata": {
        "id": "irzYoCkZtXUC"
      },
      "source": [
        "# Loading and previewing the Housing Dataset.\r\n",
        "train = pd.read_csv('https://archive.org/download/train5_202002/train%20%285%29.csv')\r\n",
        "test = pd.read_csv('https://archive.org/download/test1_202002/test%20%281%29.csv')"
      ],
      "execution_count": 2,
      "outputs": []
    },
    {
      "cell_type": "markdown",
      "metadata": {
        "id": "cRwNHJysUs2X"
      },
      "source": [
        "# Training Dataset."
      ]
    },
    {
      "cell_type": "markdown",
      "metadata": {
        "id": "PyJmoi1fiqAk"
      },
      "source": [
        "## Information about the datasets."
      ]
    },
    {
      "cell_type": "code",
      "metadata": {
        "colab": {
          "base_uri": "https://localhost:8080/",
          "height": 160
        },
        "id": "UTTs5MEBoPwR",
        "outputId": "a5e3d7a1-cf8e-46b2-852b-60fc8ce3927a"
      },
      "source": [
        "# Previewing the top of the training dataframe\r\n",
        "train.head(2)"
      ],
      "execution_count": 3,
      "outputs": [
        {
          "output_type": "execute_result",
          "data": {
            "text/html": [
              "<div>\n",
              "<style scoped>\n",
              "    .dataframe tbody tr th:only-of-type {\n",
              "        vertical-align: middle;\n",
              "    }\n",
              "\n",
              "    .dataframe tbody tr th {\n",
              "        vertical-align: top;\n",
              "    }\n",
              "\n",
              "    .dataframe thead th {\n",
              "        text-align: right;\n",
              "    }\n",
              "</style>\n",
              "<table border=\"1\" class=\"dataframe\">\n",
              "  <thead>\n",
              "    <tr style=\"text-align: right;\">\n",
              "      <th></th>\n",
              "      <th>PassengerId</th>\n",
              "      <th>Survived</th>\n",
              "      <th>Pclass</th>\n",
              "      <th>Name</th>\n",
              "      <th>Sex</th>\n",
              "      <th>Age</th>\n",
              "      <th>SibSp</th>\n",
              "      <th>Parch</th>\n",
              "      <th>Ticket</th>\n",
              "      <th>Fare</th>\n",
              "      <th>Cabin</th>\n",
              "      <th>Embarked</th>\n",
              "    </tr>\n",
              "  </thead>\n",
              "  <tbody>\n",
              "    <tr>\n",
              "      <th>0</th>\n",
              "      <td>1</td>\n",
              "      <td>0</td>\n",
              "      <td>3</td>\n",
              "      <td>Braund, Mr. Owen Harris</td>\n",
              "      <td>male</td>\n",
              "      <td>22.0</td>\n",
              "      <td>1</td>\n",
              "      <td>0</td>\n",
              "      <td>A/5 21171</td>\n",
              "      <td>7.2500</td>\n",
              "      <td>NaN</td>\n",
              "      <td>S</td>\n",
              "    </tr>\n",
              "    <tr>\n",
              "      <th>1</th>\n",
              "      <td>2</td>\n",
              "      <td>1</td>\n",
              "      <td>1</td>\n",
              "      <td>Cumings, Mrs. John Bradley (Florence Briggs Th...</td>\n",
              "      <td>female</td>\n",
              "      <td>38.0</td>\n",
              "      <td>1</td>\n",
              "      <td>0</td>\n",
              "      <td>PC 17599</td>\n",
              "      <td>71.2833</td>\n",
              "      <td>C85</td>\n",
              "      <td>C</td>\n",
              "    </tr>\n",
              "  </tbody>\n",
              "</table>\n",
              "</div>"
            ],
            "text/plain": [
              "   PassengerId  Survived  Pclass  ...     Fare Cabin  Embarked\n",
              "0            1         0       3  ...   7.2500   NaN         S\n",
              "1            2         1       1  ...  71.2833   C85         C\n",
              "\n",
              "[2 rows x 12 columns]"
            ]
          },
          "metadata": {
            "tags": []
          },
          "execution_count": 3
        }
      ]
    },
    {
      "cell_type": "code",
      "metadata": {
        "colab": {
          "base_uri": "https://localhost:8080/",
          "height": 108
        },
        "id": "YTYNbMQYoZlV",
        "outputId": "51666f78-8887-4b3e-c49c-eaab2add13cd"
      },
      "source": [
        "# Previewing the bottom of the training dataframe\r\n",
        "train.tail(2)"
      ],
      "execution_count": 4,
      "outputs": [
        {
          "output_type": "execute_result",
          "data": {
            "text/html": [
              "<div>\n",
              "<style scoped>\n",
              "    .dataframe tbody tr th:only-of-type {\n",
              "        vertical-align: middle;\n",
              "    }\n",
              "\n",
              "    .dataframe tbody tr th {\n",
              "        vertical-align: top;\n",
              "    }\n",
              "\n",
              "    .dataframe thead th {\n",
              "        text-align: right;\n",
              "    }\n",
              "</style>\n",
              "<table border=\"1\" class=\"dataframe\">\n",
              "  <thead>\n",
              "    <tr style=\"text-align: right;\">\n",
              "      <th></th>\n",
              "      <th>PassengerId</th>\n",
              "      <th>Survived</th>\n",
              "      <th>Pclass</th>\n",
              "      <th>Name</th>\n",
              "      <th>Sex</th>\n",
              "      <th>Age</th>\n",
              "      <th>SibSp</th>\n",
              "      <th>Parch</th>\n",
              "      <th>Ticket</th>\n",
              "      <th>Fare</th>\n",
              "      <th>Cabin</th>\n",
              "      <th>Embarked</th>\n",
              "    </tr>\n",
              "  </thead>\n",
              "  <tbody>\n",
              "    <tr>\n",
              "      <th>889</th>\n",
              "      <td>890</td>\n",
              "      <td>1</td>\n",
              "      <td>1</td>\n",
              "      <td>Behr, Mr. Karl Howell</td>\n",
              "      <td>male</td>\n",
              "      <td>26.0</td>\n",
              "      <td>0</td>\n",
              "      <td>0</td>\n",
              "      <td>111369</td>\n",
              "      <td>30.00</td>\n",
              "      <td>C148</td>\n",
              "      <td>C</td>\n",
              "    </tr>\n",
              "    <tr>\n",
              "      <th>890</th>\n",
              "      <td>891</td>\n",
              "      <td>0</td>\n",
              "      <td>3</td>\n",
              "      <td>Dooley, Mr. Patrick</td>\n",
              "      <td>male</td>\n",
              "      <td>32.0</td>\n",
              "      <td>0</td>\n",
              "      <td>0</td>\n",
              "      <td>370376</td>\n",
              "      <td>7.75</td>\n",
              "      <td>NaN</td>\n",
              "      <td>Q</td>\n",
              "    </tr>\n",
              "  </tbody>\n",
              "</table>\n",
              "</div>"
            ],
            "text/plain": [
              "     PassengerId  Survived  Pclass  ...   Fare Cabin  Embarked\n",
              "889          890         1       1  ...  30.00  C148         C\n",
              "890          891         0       3  ...   7.75   NaN         Q\n",
              "\n",
              "[2 rows x 12 columns]"
            ]
          },
          "metadata": {
            "tags": []
          },
          "execution_count": 4
        }
      ]
    },
    {
      "cell_type": "code",
      "metadata": {
        "colab": {
          "base_uri": "https://localhost:8080/"
        },
        "id": "WvbjZhhHumlf",
        "outputId": "f0d2ba63-b650-4457-efd7-4bef2224ab9e"
      },
      "source": [
        "# Checking the size of the train dataset.\r\n",
        "print('The training dataframe has:(rows,columns)=',train.shape)"
      ],
      "execution_count": 5,
      "outputs": [
        {
          "output_type": "stream",
          "text": [
            "The training dataframe has:(rows,columns)= (891, 12)\n"
          ],
          "name": "stdout"
        }
      ]
    },
    {
      "cell_type": "code",
      "metadata": {
        "colab": {
          "base_uri": "https://localhost:8080/"
        },
        "id": "fjiw2Jb2vDnS",
        "outputId": "6e478270-eb55-4a29-80ee-ef9222b1f0a3"
      },
      "source": [
        "# Checking Columns and Datatypes in the train Dataset.\r\n",
        "print('Information of the train Dataset')\r\n",
        "print('*' *40)\r\n",
        "train.info()"
      ],
      "execution_count": 6,
      "outputs": [
        {
          "output_type": "stream",
          "text": [
            "Information of the train Dataset\n",
            "****************************************\n",
            "<class 'pandas.core.frame.DataFrame'>\n",
            "RangeIndex: 891 entries, 0 to 890\n",
            "Data columns (total 12 columns):\n",
            " #   Column       Non-Null Count  Dtype  \n",
            "---  ------       --------------  -----  \n",
            " 0   PassengerId  891 non-null    int64  \n",
            " 1   Survived     891 non-null    int64  \n",
            " 2   Pclass       891 non-null    int64  \n",
            " 3   Name         891 non-null    object \n",
            " 4   Sex          891 non-null    object \n",
            " 5   Age          714 non-null    float64\n",
            " 6   SibSp        891 non-null    int64  \n",
            " 7   Parch        891 non-null    int64  \n",
            " 8   Ticket       891 non-null    object \n",
            " 9   Fare         891 non-null    float64\n",
            " 10  Cabin        204 non-null    object \n",
            " 11  Embarked     889 non-null    object \n",
            "dtypes: float64(2), int64(5), object(5)\n",
            "memory usage: 83.7+ KB\n"
          ],
          "name": "stdout"
        }
      ]
    },
    {
      "cell_type": "markdown",
      "metadata": {
        "id": "CNJ0bmkIxivr"
      },
      "source": [
        "*The dataset contains 891 rows, 12 columns and the respective datatypes for each column as shown above.*"
      ]
    },
    {
      "cell_type": "code",
      "metadata": {
        "colab": {
          "base_uri": "https://localhost:8080/",
          "height": 433
        },
        "id": "TiA5WC0J04O7",
        "outputId": "47677ba8-f5d6-4241-ec8a-b011dc2a1268"
      },
      "source": [
        "# Obtaining a description of the dataset.\r\n",
        "train.describe(include='all')"
      ],
      "execution_count": 7,
      "outputs": [
        {
          "output_type": "execute_result",
          "data": {
            "text/html": [
              "<div>\n",
              "<style scoped>\n",
              "    .dataframe tbody tr th:only-of-type {\n",
              "        vertical-align: middle;\n",
              "    }\n",
              "\n",
              "    .dataframe tbody tr th {\n",
              "        vertical-align: top;\n",
              "    }\n",
              "\n",
              "    .dataframe thead th {\n",
              "        text-align: right;\n",
              "    }\n",
              "</style>\n",
              "<table border=\"1\" class=\"dataframe\">\n",
              "  <thead>\n",
              "    <tr style=\"text-align: right;\">\n",
              "      <th></th>\n",
              "      <th>PassengerId</th>\n",
              "      <th>Survived</th>\n",
              "      <th>Pclass</th>\n",
              "      <th>Name</th>\n",
              "      <th>Sex</th>\n",
              "      <th>Age</th>\n",
              "      <th>SibSp</th>\n",
              "      <th>Parch</th>\n",
              "      <th>Ticket</th>\n",
              "      <th>Fare</th>\n",
              "      <th>Cabin</th>\n",
              "      <th>Embarked</th>\n",
              "    </tr>\n",
              "  </thead>\n",
              "  <tbody>\n",
              "    <tr>\n",
              "      <th>count</th>\n",
              "      <td>891.000000</td>\n",
              "      <td>891.000000</td>\n",
              "      <td>891.000000</td>\n",
              "      <td>891</td>\n",
              "      <td>891</td>\n",
              "      <td>714.000000</td>\n",
              "      <td>891.000000</td>\n",
              "      <td>891.000000</td>\n",
              "      <td>891</td>\n",
              "      <td>891.000000</td>\n",
              "      <td>204</td>\n",
              "      <td>889</td>\n",
              "    </tr>\n",
              "    <tr>\n",
              "      <th>unique</th>\n",
              "      <td>NaN</td>\n",
              "      <td>NaN</td>\n",
              "      <td>NaN</td>\n",
              "      <td>891</td>\n",
              "      <td>2</td>\n",
              "      <td>NaN</td>\n",
              "      <td>NaN</td>\n",
              "      <td>NaN</td>\n",
              "      <td>681</td>\n",
              "      <td>NaN</td>\n",
              "      <td>147</td>\n",
              "      <td>3</td>\n",
              "    </tr>\n",
              "    <tr>\n",
              "      <th>top</th>\n",
              "      <td>NaN</td>\n",
              "      <td>NaN</td>\n",
              "      <td>NaN</td>\n",
              "      <td>Herman, Miss. Alice</td>\n",
              "      <td>male</td>\n",
              "      <td>NaN</td>\n",
              "      <td>NaN</td>\n",
              "      <td>NaN</td>\n",
              "      <td>CA. 2343</td>\n",
              "      <td>NaN</td>\n",
              "      <td>B96 B98</td>\n",
              "      <td>S</td>\n",
              "    </tr>\n",
              "    <tr>\n",
              "      <th>freq</th>\n",
              "      <td>NaN</td>\n",
              "      <td>NaN</td>\n",
              "      <td>NaN</td>\n",
              "      <td>1</td>\n",
              "      <td>577</td>\n",
              "      <td>NaN</td>\n",
              "      <td>NaN</td>\n",
              "      <td>NaN</td>\n",
              "      <td>7</td>\n",
              "      <td>NaN</td>\n",
              "      <td>4</td>\n",
              "      <td>644</td>\n",
              "    </tr>\n",
              "    <tr>\n",
              "      <th>mean</th>\n",
              "      <td>446.000000</td>\n",
              "      <td>0.383838</td>\n",
              "      <td>2.308642</td>\n",
              "      <td>NaN</td>\n",
              "      <td>NaN</td>\n",
              "      <td>29.699118</td>\n",
              "      <td>0.523008</td>\n",
              "      <td>0.381594</td>\n",
              "      <td>NaN</td>\n",
              "      <td>32.204208</td>\n",
              "      <td>NaN</td>\n",
              "      <td>NaN</td>\n",
              "    </tr>\n",
              "    <tr>\n",
              "      <th>std</th>\n",
              "      <td>257.353842</td>\n",
              "      <td>0.486592</td>\n",
              "      <td>0.836071</td>\n",
              "      <td>NaN</td>\n",
              "      <td>NaN</td>\n",
              "      <td>14.526497</td>\n",
              "      <td>1.102743</td>\n",
              "      <td>0.806057</td>\n",
              "      <td>NaN</td>\n",
              "      <td>49.693429</td>\n",
              "      <td>NaN</td>\n",
              "      <td>NaN</td>\n",
              "    </tr>\n",
              "    <tr>\n",
              "      <th>min</th>\n",
              "      <td>1.000000</td>\n",
              "      <td>0.000000</td>\n",
              "      <td>1.000000</td>\n",
              "      <td>NaN</td>\n",
              "      <td>NaN</td>\n",
              "      <td>0.420000</td>\n",
              "      <td>0.000000</td>\n",
              "      <td>0.000000</td>\n",
              "      <td>NaN</td>\n",
              "      <td>0.000000</td>\n",
              "      <td>NaN</td>\n",
              "      <td>NaN</td>\n",
              "    </tr>\n",
              "    <tr>\n",
              "      <th>25%</th>\n",
              "      <td>223.500000</td>\n",
              "      <td>0.000000</td>\n",
              "      <td>2.000000</td>\n",
              "      <td>NaN</td>\n",
              "      <td>NaN</td>\n",
              "      <td>20.125000</td>\n",
              "      <td>0.000000</td>\n",
              "      <td>0.000000</td>\n",
              "      <td>NaN</td>\n",
              "      <td>7.910400</td>\n",
              "      <td>NaN</td>\n",
              "      <td>NaN</td>\n",
              "    </tr>\n",
              "    <tr>\n",
              "      <th>50%</th>\n",
              "      <td>446.000000</td>\n",
              "      <td>0.000000</td>\n",
              "      <td>3.000000</td>\n",
              "      <td>NaN</td>\n",
              "      <td>NaN</td>\n",
              "      <td>28.000000</td>\n",
              "      <td>0.000000</td>\n",
              "      <td>0.000000</td>\n",
              "      <td>NaN</td>\n",
              "      <td>14.454200</td>\n",
              "      <td>NaN</td>\n",
              "      <td>NaN</td>\n",
              "    </tr>\n",
              "    <tr>\n",
              "      <th>75%</th>\n",
              "      <td>668.500000</td>\n",
              "      <td>1.000000</td>\n",
              "      <td>3.000000</td>\n",
              "      <td>NaN</td>\n",
              "      <td>NaN</td>\n",
              "      <td>38.000000</td>\n",
              "      <td>1.000000</td>\n",
              "      <td>0.000000</td>\n",
              "      <td>NaN</td>\n",
              "      <td>31.000000</td>\n",
              "      <td>NaN</td>\n",
              "      <td>NaN</td>\n",
              "    </tr>\n",
              "    <tr>\n",
              "      <th>max</th>\n",
              "      <td>891.000000</td>\n",
              "      <td>1.000000</td>\n",
              "      <td>3.000000</td>\n",
              "      <td>NaN</td>\n",
              "      <td>NaN</td>\n",
              "      <td>80.000000</td>\n",
              "      <td>8.000000</td>\n",
              "      <td>6.000000</td>\n",
              "      <td>NaN</td>\n",
              "      <td>512.329200</td>\n",
              "      <td>NaN</td>\n",
              "      <td>NaN</td>\n",
              "    </tr>\n",
              "  </tbody>\n",
              "</table>\n",
              "</div>"
            ],
            "text/plain": [
              "        PassengerId    Survived      Pclass  ...        Fare    Cabin  Embarked\n",
              "count    891.000000  891.000000  891.000000  ...  891.000000      204       889\n",
              "unique          NaN         NaN         NaN  ...         NaN      147         3\n",
              "top             NaN         NaN         NaN  ...         NaN  B96 B98         S\n",
              "freq            NaN         NaN         NaN  ...         NaN        4       644\n",
              "mean     446.000000    0.383838    2.308642  ...   32.204208      NaN       NaN\n",
              "std      257.353842    0.486592    0.836071  ...   49.693429      NaN       NaN\n",
              "min        1.000000    0.000000    1.000000  ...    0.000000      NaN       NaN\n",
              "25%      223.500000    0.000000    2.000000  ...    7.910400      NaN       NaN\n",
              "50%      446.000000    0.000000    3.000000  ...   14.454200      NaN       NaN\n",
              "75%      668.500000    1.000000    3.000000  ...   31.000000      NaN       NaN\n",
              "max      891.000000    1.000000    3.000000  ...  512.329200      NaN       NaN\n",
              "\n",
              "[11 rows x 12 columns]"
            ]
          },
          "metadata": {
            "tags": []
          },
          "execution_count": 7
        }
      ]
    },
    {
      "cell_type": "code",
      "metadata": {
        "colab": {
          "base_uri": "https://localhost:8080/"
        },
        "id": "ejOAJaExbm3v",
        "outputId": "dc54a2a5-72aa-4bc2-cf3e-5c207c1449ee"
      },
      "source": [
        "# Getting Unique values in train dataframe columns\r\n",
        "print('Unique records in PassengerId column',train['PassengerId'].count())\r\n",
        "print('Unique records in Survived column',train['Survived'].unique())\r\n",
        "print('Unique records in Pclass column',train['Pclass'].unique())\r\n",
        "print('Unique records in Name column',train['Name'].count())\r\n",
        "print('Unique records in Sex column',train['Sex'].unique())\r\n",
        "print('Unique records in Age column',train['Age'].count())\r\n",
        "print('Unique records in SibSp column',train['SibSp'].unique())\r\n",
        "print('Unique records in Parch column',train['Parch'].unique())\r\n",
        "print('Unique records in Ticket column',train['Ticket'].count())\r\n",
        "print('Unique records in Fare column',train['Fare'].count())\r\n",
        "print('Unique records in Cabin column',train['Cabin'].count())\r\n",
        "print('Unique records in Embarked column',train['Embarked'].unique())"
      ],
      "execution_count": 8,
      "outputs": [
        {
          "output_type": "stream",
          "text": [
            "Unique records in PassengerId column 891\n",
            "Unique records in Survived column [0 1]\n",
            "Unique records in Pclass column [3 1 2]\n",
            "Unique records in Name column 891\n",
            "Unique records in Sex column ['male' 'female']\n",
            "Unique records in Age column 714\n",
            "Unique records in SibSp column [1 0 3 4 2 5 8]\n",
            "Unique records in Parch column [0 1 2 5 3 4 6]\n",
            "Unique records in Ticket column 891\n",
            "Unique records in Fare column 891\n",
            "Unique records in Cabin column 204\n",
            "Unique records in Embarked column ['S' 'C' 'Q' nan]\n"
          ],
          "name": "stdout"
        }
      ]
    },
    {
      "cell_type": "markdown",
      "metadata": {
        "id": "AZpfr4CBwGAT"
      },
      "source": [
        "## Data Cleaning."
      ]
    },
    {
      "cell_type": "markdown",
      "metadata": {
        "id": "iwILdSUUjiyh"
      },
      "source": [
        "### Duplicate and Null Values."
      ]
    },
    {
      "cell_type": "code",
      "metadata": {
        "colab": {
          "base_uri": "https://localhost:8080/"
        },
        "id": "SE9czWbWxfLG",
        "outputId": "5647f849-e2f7-40df-ef79-1c442136f73b"
      },
      "source": [
        "# Checking for duplicates.\r\n",
        "print('Number of duplicated records = ',train.duplicated().sum())"
      ],
      "execution_count": 9,
      "outputs": [
        {
          "output_type": "stream",
          "text": [
            "Number of duplicated records =  0\n"
          ],
          "name": "stdout"
        }
      ]
    },
    {
      "cell_type": "markdown",
      "metadata": {
        "id": "yMPEhwWMda7Y"
      },
      "source": [
        "No duplicates were found in the training dataset."
      ]
    },
    {
      "cell_type": "code",
      "metadata": {
        "colab": {
          "base_uri": "https://localhost:8080/"
        },
        "id": "iV-jAbHItr77",
        "outputId": "750045c7-9f88-4998-b3de-19a9b9df52c3"
      },
      "source": [
        "# Checking for null values.\r\n",
        "train.isnull().sum()"
      ],
      "execution_count": 10,
      "outputs": [
        {
          "output_type": "execute_result",
          "data": {
            "text/plain": [
              "PassengerId      0\n",
              "Survived         0\n",
              "Pclass           0\n",
              "Name             0\n",
              "Sex              0\n",
              "Age            177\n",
              "SibSp            0\n",
              "Parch            0\n",
              "Ticket           0\n",
              "Fare             0\n",
              "Cabin          687\n",
              "Embarked         2\n",
              "dtype: int64"
            ]
          },
          "metadata": {
            "tags": []
          },
          "execution_count": 10
        }
      ]
    },
    {
      "cell_type": "markdown",
      "metadata": {
        "id": "hz22ehMgt7ZE"
      },
      "source": [
        "The age column was found to have 177 null records, while cabin and embarked had 687 and 2 null records respectively."
      ]
    },
    {
      "cell_type": "code",
      "metadata": {
        "colab": {
          "base_uri": "https://localhost:8080/"
        },
        "id": "7Au2ocTvZm54",
        "outputId": "1dbd191f-fac4-4ffd-facd-ec024782149d"
      },
      "source": [
        "# Checking and sorting missing values in each column.\r\n",
        "(train.isna().mean().round(3) * 100).sort_values(ascending = False)"
      ],
      "execution_count": 11,
      "outputs": [
        {
          "output_type": "execute_result",
          "data": {
            "text/plain": [
              "Cabin          77.1\n",
              "Age            19.9\n",
              "Embarked        0.2\n",
              "Fare            0.0\n",
              "Ticket          0.0\n",
              "Parch           0.0\n",
              "SibSp           0.0\n",
              "Sex             0.0\n",
              "Name            0.0\n",
              "Pclass          0.0\n",
              "Survived        0.0\n",
              "PassengerId     0.0\n",
              "dtype: float64"
            ]
          },
          "metadata": {
            "tags": []
          },
          "execution_count": 11
        }
      ]
    },
    {
      "cell_type": "code",
      "metadata": {
        "colab": {
          "base_uri": "https://localhost:8080/",
          "height": 444
        },
        "id": "hetbhxwIaSXY",
        "outputId": "a514d988-caba-4d79-b714-24962f8741da"
      },
      "source": [
        "# Visualizing missing data.\r\n",
        "train.isnull().mean().round(3).sort_values(ascending = False)[:8].plot(kind = 'bar', figsize = (8, 6), color = 'magenta')\r\n",
        "plt.title('Percentage of missing values')\r\n",
        "plt.ylabel('Missing values')\r\n",
        "plt.xlabel('Column')\r\n",
        "plt.show()"
      ],
      "execution_count": 12,
      "outputs": [
        {
          "output_type": "display_data",
          "data": {
            "image/png": "[encoded data removed]",
            "text/plain": [
              "<Figure size 576x432 with 1 Axes>"
            ]
          },
          "metadata": {
            "tags": [],
            "needs_background": "light"
          }
        }
      ]
    },
    {
      "cell_type": "markdown",
      "metadata": {
        "id": "Geg7VEJIb8mm"
      },
      "source": [
        "The cabin column was found to have 77.1% of missing values. It would be advisable to drop this column as it has a high percentage of missing records.\r\n",
        "\r\n",
        "The age column was found to have 19.9% of missing values. This column will be imputed with the mode which is the most occurring.\r\n",
        "\r\n",
        "The embarked column only had 0.2% of missing records. This column will be imputed with the mean."
      ]
    },
    {
      "cell_type": "markdown",
      "metadata": {
        "id": "yLe3MFlajwHw"
      },
      "source": [
        "### Imputing of Null Values."
      ]
    },
    {
      "cell_type": "code",
      "metadata": {
        "colab": {
          "base_uri": "https://localhost:8080/"
        },
        "id": "0Y3bCpWZeWUf",
        "outputId": "96035b12-51f0-49d6-b6bb-ba16a1cf9331"
      },
      "source": [
        "# Nulls found in the Age column\r\n",
        "print('Null values in Age column before imputing:', train.Age.isna().sum())\r\n",
        "# Filling missing values in the Age column with the mode.\r\n",
        "train.Age.fillna(train.Age.mode()[0], inplace = True)\r\n",
        "print('Null values in Age column after imputing:', train.Age.isna().sum())"
      ],
      "execution_count": 13,
      "outputs": [
        {
          "output_type": "stream",
          "text": [
            "Null values in Age column before imputing: 177\n",
            "Null values in Age column after imputing: 0\n"
          ],
          "name": "stdout"
        }
      ]
    },
    {
      "cell_type": "code",
      "metadata": {
        "colab": {
          "base_uri": "https://localhost:8080/"
        },
        "id": "lUMGhpOxic74",
        "outputId": "a2f70f21-5160-455a-bb78-5aaa44553da6"
      },
      "source": [
        "# Nulls found in the Embarked column\r\n",
        "print('Null values in Embarked column before imputing:', train.Embarked.isna().sum())\r\n",
        "# Filling missing values in the Embarked column with the mode.\r\n",
        "train.Embarked.fillna(train.Embarked.mode()[0], inplace = True)\r\n",
        "print('Null values in Embarked column after imputing:', train.Embarked.isna().sum())"
      ],
      "execution_count": 14,
      "outputs": [
        {
          "output_type": "stream",
          "text": [
            "Null values in Embarked column before imputing: 2\n",
            "Null values in Embarked column after imputing: 0\n"
          ],
          "name": "stdout"
        }
      ]
    },
    {
      "cell_type": "markdown",
      "metadata": {
        "id": "vUimsFpdkFKn"
      },
      "source": [
        "### Dropping Columns."
      ]
    },
    {
      "cell_type": "code",
      "metadata": {
        "colab": {
          "base_uri": "https://localhost:8080/",
          "height": 108
        },
        "id": "CNJQCXz82NHo",
        "outputId": "b5df9779-fef6-4bba-a0dc-906dd2cf182c"
      },
      "source": [
        "# Dropping irrelevant columns.\r\n",
        "train.drop(columns=['PassengerId','Name','Cabin','Ticket','Fare','Embarked'], inplace=True)\r\n",
        "train.head(2)"
      ],
      "execution_count": 15,
      "outputs": [
        {
          "output_type": "execute_result",
          "data": {
            "text/html": [
              "<div>\n",
              "<style scoped>\n",
              "    .dataframe tbody tr th:only-of-type {\n",
              "        vertical-align: middle;\n",
              "    }\n",
              "\n",
              "    .dataframe tbody tr th {\n",
              "        vertical-align: top;\n",
              "    }\n",
              "\n",
              "    .dataframe thead th {\n",
              "        text-align: right;\n",
              "    }\n",
              "</style>\n",
              "<table border=\"1\" class=\"dataframe\">\n",
              "  <thead>\n",
              "    <tr style=\"text-align: right;\">\n",
              "      <th></th>\n",
              "      <th>Survived</th>\n",
              "      <th>Pclass</th>\n",
              "      <th>Sex</th>\n",
              "      <th>Age</th>\n",
              "      <th>SibSp</th>\n",
              "      <th>Parch</th>\n",
              "    </tr>\n",
              "  </thead>\n",
              "  <tbody>\n",
              "    <tr>\n",
              "      <th>0</th>\n",
              "      <td>0</td>\n",
              "      <td>3</td>\n",
              "      <td>male</td>\n",
              "      <td>22.0</td>\n",
              "      <td>1</td>\n",
              "      <td>0</td>\n",
              "    </tr>\n",
              "    <tr>\n",
              "      <th>1</th>\n",
              "      <td>1</td>\n",
              "      <td>1</td>\n",
              "      <td>female</td>\n",
              "      <td>38.0</td>\n",
              "      <td>1</td>\n",
              "      <td>0</td>\n",
              "    </tr>\n",
              "  </tbody>\n",
              "</table>\n",
              "</div>"
            ],
            "text/plain": [
              "   Survived  Pclass     Sex   Age  SibSp  Parch\n",
              "0         0       3    male  22.0      1      0\n",
              "1         1       1  female  38.0      1      0"
            ]
          },
          "metadata": {
            "tags": []
          },
          "execution_count": 15
        }
      ]
    },
    {
      "cell_type": "markdown",
      "metadata": {
        "id": "HSbUWf9XkdEw"
      },
      "source": [
        "### Modifying Column Datatypes."
      ]
    },
    {
      "cell_type": "code",
      "metadata": {
        "colab": {
          "base_uri": "https://localhost:8080/"
        },
        "id": "ETmYl8zKn0DN",
        "outputId": "a81b3dad-fe40-4b85-8509-46a4573fe921"
      },
      "source": [
        "# Identifying column datatypes\r\n",
        "train.dtypes"
      ],
      "execution_count": 16,
      "outputs": [
        {
          "output_type": "execute_result",
          "data": {
            "text/plain": [
              "Survived      int64\n",
              "Pclass        int64\n",
              "Sex          object\n",
              "Age         float64\n",
              "SibSp         int64\n",
              "Parch         int64\n",
              "dtype: object"
            ]
          },
          "metadata": {
            "tags": []
          },
          "execution_count": 16
        }
      ]
    },
    {
      "cell_type": "code",
      "metadata": {
        "id": "JjP1-h7y8x_I"
      },
      "source": [
        "# # Defining columns as numeric, Categorical or Boolean.\r\n",
        "\r\n",
        "# num=['age','TSH','T3','TT4','T4U','FTI']\r\n",
        "# categorical=['status','sex','TSH_measured','T3_measured','TT4_measured','T4U_measured','FTI_measured']\r\n",
        "# boolean=['on_thyroxine','query_on_thyroxine','on_antithyroid_medication','thyroid_surgery','query_hypothyroid','query_hyperthyroid','pregnant','sick','tumor','lithium','goitre']\r\n",
        "\r\n",
        "# for column in df.columns:\r\n",
        "#   if column in num:\r\n",
        "#     df[column] = df[column].astype('float')\r\n",
        "#   elif column in categorical:\r\n",
        "#     df[column] = df[column].astype('category')\r\n",
        "#   elif column in boolean:\r\n",
        "#     df[column] = df[column].astype('bool')\r\n",
        "# df.info()"
      ],
      "execution_count": 17,
      "outputs": []
    },
    {
      "cell_type": "markdown",
      "metadata": {
        "id": "Evrm4uMJkVqP"
      },
      "source": [
        "### Outliers."
      ]
    },
    {
      "cell_type": "code",
      "metadata": {
        "id": "UHcLQXdSY2oJ",
        "colab": {
          "base_uri": "https://localhost:8080/",
          "height": 1000
        },
        "outputId": "c3521bdb-5bee-4b62-e5e8-ee68389abc3a"
      },
      "source": [
        "# Checking for outliers.\r\n",
        "columns = ['Survived', 'Pclass', 'Age', 'SibSp', 'Parch']\r\n",
        "fig, ax = plt.subplots(len(columns), figsize= (10,25))\r\n",
        "for i, col_val in enumerate(columns):\r\n",
        "  sns.boxplot(x = train[col_val], ax= ax[i])\r\n",
        "  #ax[i].set_title('Box plot - {}'.format(col_val), fontsize= 10)\r\n",
        "  ax[i].set_xlabel(col_val, fontsize= 8)\r\n",
        "plt.show()"
      ],
      "execution_count": 18,
      "outputs": [
        {
          "output_type": "display_data",
          "data": {
            "image/png": "[encoded data removed]",
            "text/plain": [
              "<Figure size 720x1800 with 5 Axes>"
            ]
          },
          "metadata": {
            "tags": [],
            "needs_background": "light"
          }
        }
      ]
    },
    {
      "cell_type": "markdown",
      "metadata": {
        "id": "ds1SvRwu0C74"
      },
      "source": [
        "Outliers were found in the dataset.\r\n",
        "\r\n"
      ]
    },
    {
      "cell_type": "markdown",
      "metadata": {
        "id": "PFzpKI4wlamy"
      },
      "source": [
        "# Testing dataset."
      ]
    },
    {
      "cell_type": "markdown",
      "metadata": {
        "id": "EtExC8WTsp9o"
      },
      "source": [
        "## Information about the datasets."
      ]
    },
    {
      "cell_type": "code",
      "metadata": {
        "colab": {
          "base_uri": "https://localhost:8080/",
          "height": 108
        },
        "id": "OiLjlEtFwA-c",
        "outputId": "877ee52e-672f-4e7c-ef0a-863eab817bdd"
      },
      "source": [
        "# Previewing the top of the testing dataframe.\r\n",
        "test.head(2)"
      ],
      "execution_count": 19,
      "outputs": [
        {
          "output_type": "execute_result",
          "data": {
            "text/html": [
              "<div>\n",
              "<style scoped>\n",
              "    .dataframe tbody tr th:only-of-type {\n",
              "        vertical-align: middle;\n",
              "    }\n",
              "\n",
              "    .dataframe tbody tr th {\n",
              "        vertical-align: top;\n",
              "    }\n",
              "\n",
              "    .dataframe thead th {\n",
              "        text-align: right;\n",
              "    }\n",
              "</style>\n",
              "<table border=\"1\" class=\"dataframe\">\n",
              "  <thead>\n",
              "    <tr style=\"text-align: right;\">\n",
              "      <th></th>\n",
              "      <th>PassengerId</th>\n",
              "      <th>Pclass</th>\n",
              "      <th>Name</th>\n",
              "      <th>Sex</th>\n",
              "      <th>Age</th>\n",
              "      <th>SibSp</th>\n",
              "      <th>Parch</th>\n",
              "      <th>Ticket</th>\n",
              "      <th>Fare</th>\n",
              "      <th>Cabin</th>\n",
              "      <th>Embarked</th>\n",
              "    </tr>\n",
              "  </thead>\n",
              "  <tbody>\n",
              "    <tr>\n",
              "      <th>0</th>\n",
              "      <td>892</td>\n",
              "      <td>3</td>\n",
              "      <td>Kelly, Mr. James</td>\n",
              "      <td>male</td>\n",
              "      <td>34.5</td>\n",
              "      <td>0</td>\n",
              "      <td>0</td>\n",
              "      <td>330911</td>\n",
              "      <td>7.8292</td>\n",
              "      <td>NaN</td>\n",
              "      <td>Q</td>\n",
              "    </tr>\n",
              "    <tr>\n",
              "      <th>1</th>\n",
              "      <td>893</td>\n",
              "      <td>3</td>\n",
              "      <td>Wilkes, Mrs. James (Ellen Needs)</td>\n",
              "      <td>female</td>\n",
              "      <td>47.0</td>\n",
              "      <td>1</td>\n",
              "      <td>0</td>\n",
              "      <td>363272</td>\n",
              "      <td>7.0000</td>\n",
              "      <td>NaN</td>\n",
              "      <td>S</td>\n",
              "    </tr>\n",
              "  </tbody>\n",
              "</table>\n",
              "</div>"
            ],
            "text/plain": [
              "   PassengerId  Pclass                              Name  ...    Fare  Cabin  Embarked\n",
              "0          892       3                  Kelly, Mr. James  ...  7.8292    NaN         Q\n",
              "1          893       3  Wilkes, Mrs. James (Ellen Needs)  ...  7.0000    NaN         S\n",
              "\n",
              "[2 rows x 11 columns]"
            ]
          },
          "metadata": {
            "tags": []
          },
          "execution_count": 19
        }
      ]
    },
    {
      "cell_type": "code",
      "metadata": {
        "colab": {
          "base_uri": "https://localhost:8080/",
          "height": 108
        },
        "id": "lI4DM0AKwA-d",
        "outputId": "190192e1-25b7-453a-f5c2-29e82733ce98"
      },
      "source": [
        "# Previewing the bottom of the testing dataframe.\r\n",
        "test.tail(2)"
      ],
      "execution_count": 20,
      "outputs": [
        {
          "output_type": "execute_result",
          "data": {
            "text/html": [
              "<div>\n",
              "<style scoped>\n",
              "    .dataframe tbody tr th:only-of-type {\n",
              "        vertical-align: middle;\n",
              "    }\n",
              "\n",
              "    .dataframe tbody tr th {\n",
              "        vertical-align: top;\n",
              "    }\n",
              "\n",
              "    .dataframe thead th {\n",
              "        text-align: right;\n",
              "    }\n",
              "</style>\n",
              "<table border=\"1\" class=\"dataframe\">\n",
              "  <thead>\n",
              "    <tr style=\"text-align: right;\">\n",
              "      <th></th>\n",
              "      <th>PassengerId</th>\n",
              "      <th>Pclass</th>\n",
              "      <th>Name</th>\n",
              "      <th>Sex</th>\n",
              "      <th>Age</th>\n",
              "      <th>SibSp</th>\n",
              "      <th>Parch</th>\n",
              "      <th>Ticket</th>\n",
              "      <th>Fare</th>\n",
              "      <th>Cabin</th>\n",
              "      <th>Embarked</th>\n",
              "    </tr>\n",
              "  </thead>\n",
              "  <tbody>\n",
              "    <tr>\n",
              "      <th>416</th>\n",
              "      <td>1308</td>\n",
              "      <td>3</td>\n",
              "      <td>Ware, Mr. Frederick</td>\n",
              "      <td>male</td>\n",
              "      <td>NaN</td>\n",
              "      <td>0</td>\n",
              "      <td>0</td>\n",
              "      <td>359309</td>\n",
              "      <td>8.0500</td>\n",
              "      <td>NaN</td>\n",
              "      <td>S</td>\n",
              "    </tr>\n",
              "    <tr>\n",
              "      <th>417</th>\n",
              "      <td>1309</td>\n",
              "      <td>3</td>\n",
              "      <td>Peter, Master. Michael J</td>\n",
              "      <td>male</td>\n",
              "      <td>NaN</td>\n",
              "      <td>1</td>\n",
              "      <td>1</td>\n",
              "      <td>2668</td>\n",
              "      <td>22.3583</td>\n",
              "      <td>NaN</td>\n",
              "      <td>C</td>\n",
              "    </tr>\n",
              "  </tbody>\n",
              "</table>\n",
              "</div>"
            ],
            "text/plain": [
              "     PassengerId  Pclass                      Name  ...     Fare  Cabin  Embarked\n",
              "416         1308       3       Ware, Mr. Frederick  ...   8.0500    NaN         S\n",
              "417         1309       3  Peter, Master. Michael J  ...  22.3583    NaN         C\n",
              "\n",
              "[2 rows x 11 columns]"
            ]
          },
          "metadata": {
            "tags": []
          },
          "execution_count": 20
        }
      ]
    },
    {
      "cell_type": "code",
      "metadata": {
        "colab": {
          "base_uri": "https://localhost:8080/"
        },
        "id": "kFwmY5nWwA-d",
        "outputId": "577a7805-1f80-4446-cdec-0043090e9f1c"
      },
      "source": [
        "# Checking the size of the testing dataset.\r\n",
        "print('The test dataframe has:(rows,columns)=',test.shape)"
      ],
      "execution_count": 21,
      "outputs": [
        {
          "output_type": "stream",
          "text": [
            "The test dataframe has:(rows,columns)= (418, 11)\n"
          ],
          "name": "stdout"
        }
      ]
    },
    {
      "cell_type": "code",
      "metadata": {
        "colab": {
          "base_uri": "https://localhost:8080/"
        },
        "id": "bxjGJ8G9wA-e",
        "outputId": "98d80e95-8146-4115-911f-4915a8de5ac1"
      },
      "source": [
        "# Checking Columns and Datatypes in the test dataset.\r\n",
        "print('Information of the test Dataset')\r\n",
        "print('*' *40)\r\n",
        "test.info()"
      ],
      "execution_count": 22,
      "outputs": [
        {
          "output_type": "stream",
          "text": [
            "Information of the test Dataset\n",
            "****************************************\n",
            "<class 'pandas.core.frame.DataFrame'>\n",
            "RangeIndex: 418 entries, 0 to 417\n",
            "Data columns (total 11 columns):\n",
            " #   Column       Non-Null Count  Dtype  \n",
            "---  ------       --------------  -----  \n",
            " 0   PassengerId  418 non-null    int64  \n",
            " 1   Pclass       418 non-null    int64  \n",
            " 2   Name         418 non-null    object \n",
            " 3   Sex          418 non-null    object \n",
            " 4   Age          332 non-null    float64\n",
            " 5   SibSp        418 non-null    int64  \n",
            " 6   Parch        418 non-null    int64  \n",
            " 7   Ticket       418 non-null    object \n",
            " 8   Fare         417 non-null    float64\n",
            " 9   Cabin        91 non-null     object \n",
            " 10  Embarked     418 non-null    object \n",
            "dtypes: float64(2), int64(4), object(5)\n",
            "memory usage: 36.0+ KB\n"
          ],
          "name": "stdout"
        }
      ]
    },
    {
      "cell_type": "markdown",
      "metadata": {
        "id": "l8oxh8SbwA-e"
      },
      "source": [
        "*The testing dataframe contains 418 rows, 11 columns and the respective datatypes for each column as shown above.*"
      ]
    },
    {
      "cell_type": "code",
      "metadata": {
        "colab": {
          "base_uri": "https://localhost:8080/",
          "height": 430
        },
        "id": "WLlcn-fkwA-e",
        "outputId": "48cdef9a-c73b-43a6-ddb3-caafd8437852"
      },
      "source": [
        "# Obtaining a description of the test dataset.\r\n",
        "test.describe(include='all')"
      ],
      "execution_count": 23,
      "outputs": [
        {
          "output_type": "execute_result",
          "data": {
            "text/html": [
              "<div>\n",
              "<style scoped>\n",
              "    .dataframe tbody tr th:only-of-type {\n",
              "        vertical-align: middle;\n",
              "    }\n",
              "\n",
              "    .dataframe tbody tr th {\n",
              "        vertical-align: top;\n",
              "    }\n",
              "\n",
              "    .dataframe thead th {\n",
              "        text-align: right;\n",
              "    }\n",
              "</style>\n",
              "<table border=\"1\" class=\"dataframe\">\n",
              "  <thead>\n",
              "    <tr style=\"text-align: right;\">\n",
              "      <th></th>\n",
              "      <th>PassengerId</th>\n",
              "      <th>Pclass</th>\n",
              "      <th>Name</th>\n",
              "      <th>Sex</th>\n",
              "      <th>Age</th>\n",
              "      <th>SibSp</th>\n",
              "      <th>Parch</th>\n",
              "      <th>Ticket</th>\n",
              "      <th>Fare</th>\n",
              "      <th>Cabin</th>\n",
              "      <th>Embarked</th>\n",
              "    </tr>\n",
              "  </thead>\n",
              "  <tbody>\n",
              "    <tr>\n",
              "      <th>count</th>\n",
              "      <td>418.000000</td>\n",
              "      <td>418.000000</td>\n",
              "      <td>418</td>\n",
              "      <td>418</td>\n",
              "      <td>332.000000</td>\n",
              "      <td>418.000000</td>\n",
              "      <td>418.000000</td>\n",
              "      <td>418</td>\n",
              "      <td>417.000000</td>\n",
              "      <td>91</td>\n",
              "      <td>418</td>\n",
              "    </tr>\n",
              "    <tr>\n",
              "      <th>unique</th>\n",
              "      <td>NaN</td>\n",
              "      <td>NaN</td>\n",
              "      <td>418</td>\n",
              "      <td>2</td>\n",
              "      <td>NaN</td>\n",
              "      <td>NaN</td>\n",
              "      <td>NaN</td>\n",
              "      <td>363</td>\n",
              "      <td>NaN</td>\n",
              "      <td>76</td>\n",
              "      <td>3</td>\n",
              "    </tr>\n",
              "    <tr>\n",
              "      <th>top</th>\n",
              "      <td>NaN</td>\n",
              "      <td>NaN</td>\n",
              "      <td>Baccos, Mr. Raffull</td>\n",
              "      <td>male</td>\n",
              "      <td>NaN</td>\n",
              "      <td>NaN</td>\n",
              "      <td>NaN</td>\n",
              "      <td>PC 17608</td>\n",
              "      <td>NaN</td>\n",
              "      <td>B57 B59 B63 B66</td>\n",
              "      <td>S</td>\n",
              "    </tr>\n",
              "    <tr>\n",
              "      <th>freq</th>\n",
              "      <td>NaN</td>\n",
              "      <td>NaN</td>\n",
              "      <td>1</td>\n",
              "      <td>266</td>\n",
              "      <td>NaN</td>\n",
              "      <td>NaN</td>\n",
              "      <td>NaN</td>\n",
              "      <td>5</td>\n",
              "      <td>NaN</td>\n",
              "      <td>3</td>\n",
              "      <td>270</td>\n",
              "    </tr>\n",
              "    <tr>\n",
              "      <th>mean</th>\n",
              "      <td>1100.500000</td>\n",
              "      <td>2.265550</td>\n",
              "      <td>NaN</td>\n",
              "      <td>NaN</td>\n",
              "      <td>30.272590</td>\n",
              "      <td>0.447368</td>\n",
              "      <td>0.392344</td>\n",
              "      <td>NaN</td>\n",
              "      <td>35.627188</td>\n",
              "      <td>NaN</td>\n",
              "      <td>NaN</td>\n",
              "    </tr>\n",
              "    <tr>\n",
              "      <th>std</th>\n",
              "      <td>120.810458</td>\n",
              "      <td>0.841838</td>\n",
              "      <td>NaN</td>\n",
              "      <td>NaN</td>\n",
              "      <td>14.181209</td>\n",
              "      <td>0.896760</td>\n",
              "      <td>0.981429</td>\n",
              "      <td>NaN</td>\n",
              "      <td>55.907576</td>\n",
              "      <td>NaN</td>\n",
              "      <td>NaN</td>\n",
              "    </tr>\n",
              "    <tr>\n",
              "      <th>min</th>\n",
              "      <td>892.000000</td>\n",
              "      <td>1.000000</td>\n",
              "      <td>NaN</td>\n",
              "      <td>NaN</td>\n",
              "      <td>0.170000</td>\n",
              "      <td>0.000000</td>\n",
              "      <td>0.000000</td>\n",
              "      <td>NaN</td>\n",
              "      <td>0.000000</td>\n",
              "      <td>NaN</td>\n",
              "      <td>NaN</td>\n",
              "    </tr>\n",
              "    <tr>\n",
              "      <th>25%</th>\n",
              "      <td>996.250000</td>\n",
              "      <td>1.000000</td>\n",
              "      <td>NaN</td>\n",
              "      <td>NaN</td>\n",
              "      <td>21.000000</td>\n",
              "      <td>0.000000</td>\n",
              "      <td>0.000000</td>\n",
              "      <td>NaN</td>\n",
              "      <td>7.895800</td>\n",
              "      <td>NaN</td>\n",
              "      <td>NaN</td>\n",
              "    </tr>\n",
              "    <tr>\n",
              "      <th>50%</th>\n",
              "      <td>1100.500000</td>\n",
              "      <td>3.000000</td>\n",
              "      <td>NaN</td>\n",
              "      <td>NaN</td>\n",
              "      <td>27.000000</td>\n",
              "      <td>0.000000</td>\n",
              "      <td>0.000000</td>\n",
              "      <td>NaN</td>\n",
              "      <td>14.454200</td>\n",
              "      <td>NaN</td>\n",
              "      <td>NaN</td>\n",
              "    </tr>\n",
              "    <tr>\n",
              "      <th>75%</th>\n",
              "      <td>1204.750000</td>\n",
              "      <td>3.000000</td>\n",
              "      <td>NaN</td>\n",
              "      <td>NaN</td>\n",
              "      <td>39.000000</td>\n",
              "      <td>1.000000</td>\n",
              "      <td>0.000000</td>\n",
              "      <td>NaN</td>\n",
              "      <td>31.500000</td>\n",
              "      <td>NaN</td>\n",
              "      <td>NaN</td>\n",
              "    </tr>\n",
              "    <tr>\n",
              "      <th>max</th>\n",
              "      <td>1309.000000</td>\n",
              "      <td>3.000000</td>\n",
              "      <td>NaN</td>\n",
              "      <td>NaN</td>\n",
              "      <td>76.000000</td>\n",
              "      <td>8.000000</td>\n",
              "      <td>9.000000</td>\n",
              "      <td>NaN</td>\n",
              "      <td>512.329200</td>\n",
              "      <td>NaN</td>\n",
              "      <td>NaN</td>\n",
              "    </tr>\n",
              "  </tbody>\n",
              "</table>\n",
              "</div>"
            ],
            "text/plain": [
              "        PassengerId      Pclass  ...            Cabin Embarked\n",
              "count    418.000000  418.000000  ...               91      418\n",
              "unique          NaN         NaN  ...               76        3\n",
              "top             NaN         NaN  ...  B57 B59 B63 B66        S\n",
              "freq            NaN         NaN  ...                3      270\n",
              "mean    1100.500000    2.265550  ...              NaN      NaN\n",
              "std      120.810458    0.841838  ...              NaN      NaN\n",
              "min      892.000000    1.000000  ...              NaN      NaN\n",
              "25%      996.250000    1.000000  ...              NaN      NaN\n",
              "50%     1100.500000    3.000000  ...              NaN      NaN\n",
              "75%     1204.750000    3.000000  ...              NaN      NaN\n",
              "max     1309.000000    3.000000  ...              NaN      NaN\n",
              "\n",
              "[11 rows x 11 columns]"
            ]
          },
          "metadata": {
            "tags": []
          },
          "execution_count": 23
        }
      ]
    },
    {
      "cell_type": "code",
      "metadata": {
        "colab": {
          "base_uri": "https://localhost:8080/"
        },
        "id": "qMlQZoTlwA-f",
        "outputId": "54c6a42b-4731-4477-d769-eae66189775a"
      },
      "source": [
        "# Getting Unique values in test dataframe columns.\r\n",
        "print('Unique records in PassengerId column',test['PassengerId'].count())\r\n",
        "print('Unique records in Pclass column',test['Pclass'].unique())\r\n",
        "print('Unique records in Name column',test['Name'].count())\r\n",
        "print('Unique records in Sex column',test['Sex'].unique())\r\n",
        "print('Unique records in Age column',test['Age'].count())\r\n",
        "print('Unique records in SibSp column',test['SibSp'].unique())\r\n",
        "print('Unique records in Parch column',test['Parch'].unique())\r\n",
        "print('Unique records in Ticket column',test['Ticket'].count())\r\n",
        "print('Unique records in Fare column',test['Fare'].count())\r\n",
        "print('Unique records in Cabin column',test['Cabin'].count())\r\n",
        "print('Unique records in Embarked column',test['Embarked'].unique())"
      ],
      "execution_count": 24,
      "outputs": [
        {
          "output_type": "stream",
          "text": [
            "Unique records in PassengerId column 418\n",
            "Unique records in Pclass column [3 2 1]\n",
            "Unique records in Name column 418\n",
            "Unique records in Sex column ['male' 'female']\n",
            "Unique records in Age column 332\n",
            "Unique records in SibSp column [0 1 2 3 4 5 8]\n",
            "Unique records in Parch column [0 1 3 2 4 6 5 9]\n",
            "Unique records in Ticket column 418\n",
            "Unique records in Fare column 417\n",
            "Unique records in Cabin column 91\n",
            "Unique records in Embarked column ['Q' 'S' 'C']\n"
          ],
          "name": "stdout"
        }
      ]
    },
    {
      "cell_type": "markdown",
      "metadata": {
        "id": "70MOsYi-te9_"
      },
      "source": [
        "## Data Cleaning."
      ]
    },
    {
      "cell_type": "markdown",
      "metadata": {
        "id": "gdnSjiC1te-G"
      },
      "source": [
        "### Duplicate and Null Values."
      ]
    },
    {
      "cell_type": "code",
      "metadata": {
        "colab": {
          "base_uri": "https://localhost:8080/"
        },
        "id": "bPdukKvcte-G",
        "outputId": "722c4bd0-c84b-40cc-c463-feb04422f5ec"
      },
      "source": [
        "# Checking for duplicates.\r\n",
        "print('Number of duplicated records = ',test.duplicated().sum())"
      ],
      "execution_count": 25,
      "outputs": [
        {
          "output_type": "stream",
          "text": [
            "Number of duplicated records =  0\n"
          ],
          "name": "stdout"
        }
      ]
    },
    {
      "cell_type": "markdown",
      "metadata": {
        "id": "z44gNCRate-I"
      },
      "source": [
        "No duplicates were found in the training dataset."
      ]
    },
    {
      "cell_type": "code",
      "metadata": {
        "colab": {
          "base_uri": "https://localhost:8080/"
        },
        "id": "BcLIf60vte-J",
        "outputId": "340b4b22-f02d-48b0-f32d-bcb2c73ada92"
      },
      "source": [
        "# Checking for null values.\r\n",
        "test.isnull().sum()"
      ],
      "execution_count": 26,
      "outputs": [
        {
          "output_type": "execute_result",
          "data": {
            "text/plain": [
              "PassengerId      0\n",
              "Pclass           0\n",
              "Name             0\n",
              "Sex              0\n",
              "Age             86\n",
              "SibSp            0\n",
              "Parch            0\n",
              "Ticket           0\n",
              "Fare             1\n",
              "Cabin          327\n",
              "Embarked         0\n",
              "dtype: int64"
            ]
          },
          "metadata": {
            "tags": []
          },
          "execution_count": 26
        }
      ]
    },
    {
      "cell_type": "markdown",
      "metadata": {
        "id": "sHpdz82bte-K"
      },
      "source": [
        "The age column was found to have 86 null records, while fare and cabin had 1 and 327 null records respectively."
      ]
    },
    {
      "cell_type": "code",
      "metadata": {
        "colab": {
          "base_uri": "https://localhost:8080/"
        },
        "id": "myAJyKt-te-K",
        "outputId": "a80103ef-c240-41bb-f407-39f6dbfb50d4"
      },
      "source": [
        "# Checking and sorting missing values in each column.\r\n",
        "(test.isna().mean().round(3) * 100).sort_values(ascending = False)"
      ],
      "execution_count": 27,
      "outputs": [
        {
          "output_type": "execute_result",
          "data": {
            "text/plain": [
              "Cabin          78.2\n",
              "Age            20.6\n",
              "Fare            0.2\n",
              "Embarked        0.0\n",
              "Ticket          0.0\n",
              "Parch           0.0\n",
              "SibSp           0.0\n",
              "Sex             0.0\n",
              "Name            0.0\n",
              "Pclass          0.0\n",
              "PassengerId     0.0\n",
              "dtype: float64"
            ]
          },
          "metadata": {
            "tags": []
          },
          "execution_count": 27
        }
      ]
    },
    {
      "cell_type": "code",
      "metadata": {
        "colab": {
          "base_uri": "https://localhost:8080/",
          "height": 444
        },
        "id": "winUlTABte-L",
        "outputId": "ee9b352f-1bfd-4cb2-a588-9f7492f367c5"
      },
      "source": [
        "# Visualizing missing data.\r\n",
        "test.isnull().mean().round(3).sort_values(ascending = False)[:8].plot(kind = 'bar', figsize = (8, 6), color = 'cyan')\r\n",
        "plt.title('Percentage of missing values')\r\n",
        "plt.ylabel('Missing values')\r\n",
        "plt.xlabel('Column')\r\n",
        "plt.show()"
      ],
      "execution_count": 28,
      "outputs": [
        {
          "output_type": "display_data",
          "data": {
            "image/png": "[encoded data removed]",
            "text/plain": [
              "<Figure size 576x432 with 1 Axes>"
            ]
          },
          "metadata": {
            "tags": [],
            "needs_background": "light"
          }
        }
      ]
    },
    {
      "cell_type": "markdown",
      "metadata": {
        "id": "fWi_Qjqcte-O"
      },
      "source": [
        "The cabin column was found to have 78.2% of missing values. It would be advisable to drop this column as it has a high percentage of missing records.\r\n",
        "\r\n",
        "The age column was found to have 20.6% of missing values. This column will be imputed with the mode which is the most occurring.\r\n",
        "\r\n",
        "The embarked column only had 0.2% of missing records. This column will be imputed with the mean."
      ]
    },
    {
      "cell_type": "markdown",
      "metadata": {
        "id": "bCQ4tOkXte-O"
      },
      "source": [
        "### Imputing of Null Values."
      ]
    },
    {
      "cell_type": "code",
      "metadata": {
        "colab": {
          "base_uri": "https://localhost:8080/"
        },
        "id": "AxbOlOqHte-P",
        "outputId": "27ea672e-627f-4fbf-e8e5-153e42f15a33"
      },
      "source": [
        "# Nulls found in the Age column\r\n",
        "print('Null values in Age column before imputing:', test.Age.isna().sum())\r\n",
        "# Filling missing values in the Age column with the mode.\r\n",
        "test.Age.fillna(test.Age.mode()[0], inplace = True)\r\n",
        "print('Null values in Age column after imputing:', test.Age.isna().sum())"
      ],
      "execution_count": 29,
      "outputs": [
        {
          "output_type": "stream",
          "text": [
            "Null values in Age column before imputing: 86\n",
            "Null values in Age column after imputing: 0\n"
          ],
          "name": "stdout"
        }
      ]
    },
    {
      "cell_type": "markdown",
      "metadata": {
        "id": "INjJqozfte-Q"
      },
      "source": [
        "### Dropping Columns."
      ]
    },
    {
      "cell_type": "code",
      "metadata": {
        "colab": {
          "base_uri": "https://localhost:8080/",
          "height": 108
        },
        "id": "sQ-WlB3vte-Q",
        "outputId": "e2f7d454-1735-490d-f5ed-03d5266525da"
      },
      "source": [
        "# Dropping irrelevant columns.\r\n",
        "test.drop(columns=['PassengerId','Name','Cabin','Ticket','Fare','Embarked'], inplace=True)\r\n",
        "test.head(2)"
      ],
      "execution_count": 30,
      "outputs": [
        {
          "output_type": "execute_result",
          "data": {
            "text/html": [
              "<div>\n",
              "<style scoped>\n",
              "    .dataframe tbody tr th:only-of-type {\n",
              "        vertical-align: middle;\n",
              "    }\n",
              "\n",
              "    .dataframe tbody tr th {\n",
              "        vertical-align: top;\n",
              "    }\n",
              "\n",
              "    .dataframe thead th {\n",
              "        text-align: right;\n",
              "    }\n",
              "</style>\n",
              "<table border=\"1\" class=\"dataframe\">\n",
              "  <thead>\n",
              "    <tr style=\"text-align: right;\">\n",
              "      <th></th>\n",
              "      <th>Pclass</th>\n",
              "      <th>Sex</th>\n",
              "      <th>Age</th>\n",
              "      <th>SibSp</th>\n",
              "      <th>Parch</th>\n",
              "    </tr>\n",
              "  </thead>\n",
              "  <tbody>\n",
              "    <tr>\n",
              "      <th>0</th>\n",
              "      <td>3</td>\n",
              "      <td>male</td>\n",
              "      <td>34.5</td>\n",
              "      <td>0</td>\n",
              "      <td>0</td>\n",
              "    </tr>\n",
              "    <tr>\n",
              "      <th>1</th>\n",
              "      <td>3</td>\n",
              "      <td>female</td>\n",
              "      <td>47.0</td>\n",
              "      <td>1</td>\n",
              "      <td>0</td>\n",
              "    </tr>\n",
              "  </tbody>\n",
              "</table>\n",
              "</div>"
            ],
            "text/plain": [
              "   Pclass     Sex   Age  SibSp  Parch\n",
              "0       3    male  34.5      0      0\n",
              "1       3  female  47.0      1      0"
            ]
          },
          "metadata": {
            "tags": []
          },
          "execution_count": 30
        }
      ]
    },
    {
      "cell_type": "markdown",
      "metadata": {
        "id": "lFialTNvte-R"
      },
      "source": [
        "### Modifying Column Datatypes."
      ]
    },
    {
      "cell_type": "code",
      "metadata": {
        "colab": {
          "base_uri": "https://localhost:8080/"
        },
        "id": "pZI_XPnote-R",
        "outputId": "34842dd3-6be1-44ef-bbf9-eb35c83469c9"
      },
      "source": [
        "# Identifying column datatypes\r\n",
        "test.dtypes"
      ],
      "execution_count": 31,
      "outputs": [
        {
          "output_type": "execute_result",
          "data": {
            "text/plain": [
              "Pclass      int64\n",
              "Sex        object\n",
              "Age       float64\n",
              "SibSp       int64\n",
              "Parch       int64\n",
              "dtype: object"
            ]
          },
          "metadata": {
            "tags": []
          },
          "execution_count": 31
        }
      ]
    },
    {
      "cell_type": "markdown",
      "metadata": {
        "id": "VSdauxdWte-R"
      },
      "source": [
        "### Outliers."
      ]
    },
    {
      "cell_type": "code",
      "metadata": {
        "colab": {
          "base_uri": "https://localhost:8080/",
          "height": 1000
        },
        "id": "TIOw67tUte-S",
        "outputId": "62f8dc91-5528-4f8c-8038-6571c1e119a4"
      },
      "source": [
        "# Checking for outliers.\r\n",
        "columns = ['Pclass', 'Age', 'SibSp', 'Parch']\r\n",
        "fig, ax = plt.subplots(len(columns), figsize= (10,25))\r\n",
        "for i, col_val in enumerate(columns):\r\n",
        "  sns.boxplot(x = test[col_val], ax= ax[i])\r\n",
        "  #ax[i].set_title('Box plot - {}'.format(col_val), fontsize= 10)\r\n",
        "  ax[i].set_xlabel(col_val, fontsize= 8)\r\n",
        "plt.show()"
      ],
      "execution_count": 32,
      "outputs": [
        {
          "output_type": "display_data",
          "data": {
            "image/png": "[encoded data removed]",
            "text/plain": [
              "<Figure size 720x1800 with 4 Axes>"
            ]
          },
          "metadata": {
            "tags": [],
            "needs_background": "light"
          }
        }
      ]
    },
    {
      "cell_type": "markdown",
      "metadata": {
        "id": "jKeKb1Yete-S"
      },
      "source": [
        "Outliers were found in the dataset."
      ]
    },
    {
      "cell_type": "markdown",
      "metadata": {
        "id": "1gN1gxZytoyJ"
      },
      "source": [
        "# Exploratory Data Analysis."
      ]
    },
    {
      "cell_type": "code",
      "metadata": {
        "colab": {
          "base_uri": "https://localhost:8080/",
          "height": 286
        },
        "id": "tAQuJu13kn0J",
        "outputId": "29c8bdce-ec3d-41fb-a73c-45b5d9d682f0"
      },
      "source": [
        "# Getting the distribution of the data \r\n",
        "X = train[['Survived','Pclass','Age','SibSp','Parch']]\r\n",
        "sns.distplot(X)"
      ],
      "execution_count": 33,
      "outputs": [
        {
          "output_type": "execute_result",
          "data": {
            "text/plain": [
              "<matplotlib.axes._subplots.AxesSubplot at 0x7f378b4fd110>"
            ]
          },
          "metadata": {
            "tags": []
          },
          "execution_count": 33
        },
        {
          "output_type": "display_data",
          "data": {
            "image/png": "[encoded data removed]",
            "text/plain": [
              "<Figure size 432x288 with 1 Axes>"
            ]
          },
          "metadata": {
            "tags": [],
            "needs_background": "light"
          }
        }
      ]
    },
    {
      "cell_type": "code",
      "metadata": {
        "colab": {
          "base_uri": "https://localhost:8080/",
          "height": 607
        },
        "id": "a8P3cl1VdI5D",
        "outputId": "7b1adb0c-d81c-4624-d01d-60677e6f41bd"
      },
      "source": [
        "# Checking the distribution of the data\r\n",
        "train.hist(figsize = (10,10));"
      ],
      "execution_count": 34,
      "outputs": [
        {
          "output_type": "display_data",
          "data": {
            "image/png": "[encoded data removed]",
            "text/plain": [
              "<Figure size 720x720 with 6 Axes>"
            ]
          },
          "metadata": {
            "tags": [],
            "needs_background": "light"
          }
        }
      ]
    },
    {
      "cell_type": "code",
      "metadata": {
        "colab": {
          "base_uri": "https://localhost:8080/"
        },
        "id": "p-MQoh_-m2WU",
        "outputId": "a3e10943-0a2f-4be3-b443-4436afed149f"
      },
      "source": [
        "# Kurtosis \r\n",
        "print(train.kurt())\r\n",
        "print(train.kurt().sum())"
      ],
      "execution_count": 35,
      "outputs": [
        {
          "output_type": "stream",
          "text": [
            "Survived    -1.775005\n",
            "Pclass      -1.280015\n",
            "Age          0.922659\n",
            "SibSp       17.880420\n",
            "Parch        9.778125\n",
            "dtype: float64\n",
            "25.526184555452424\n"
          ],
          "name": "stdout"
        }
      ]
    },
    {
      "cell_type": "code",
      "metadata": {
        "colab": {
          "base_uri": "https://localhost:8080/"
        },
        "id": "PcOvrbizmZcr",
        "outputId": "68f294d3-cf37-40b7-8336-42fb9e3292ca"
      },
      "source": [
        "# Skew\r\n",
        "print(train.skew())\r\n",
        "print(train.skew().sum())"
      ],
      "execution_count": 36,
      "outputs": [
        {
          "output_type": "stream",
          "text": [
            "Survived    0.478523\n",
            "Pclass     -0.630548\n",
            "Age         0.657753\n",
            "SibSp       3.695352\n",
            "Parch       2.749117\n",
            "dtype: float64\n",
            "6.950197212674988\n"
          ],
          "name": "stdout"
        }
      ]
    },
    {
      "cell_type": "markdown",
      "metadata": {
        "id": "472SwfuLDDjJ"
      },
      "source": [
        "## Univariate Analysis."
      ]
    },
    {
      "cell_type": "code",
      "metadata": {
        "colab": {
          "base_uri": "https://localhost:8080/",
          "height": 298
        },
        "id": "lVOSWlm4Fn-q",
        "outputId": "84b957f4-885a-4765-f720-c9b5413abe2d"
      },
      "source": [
        "# Visualizing the Status of patients\r\n",
        "sns.countplot('Survived', data=train)\r\n",
        "plt.xlabel('Survival', fontsize=12)\r\n",
        "plt.ylabel('Number of Passenger', fontsize=12)\r\n",
        "plt.title('Bar Graph of Survival', fontsize=12)\r\n",
        "plt.show()"
      ],
      "execution_count": 37,
      "outputs": [
        {
          "output_type": "display_data",
          "data": {
            "image/png": "[encoded data removed]",
            "text/plain": [
              "<Figure size 432x288 with 1 Axes>"
            ]
          },
          "metadata": {
            "tags": [],
            "needs_background": "light"
          }
        }
      ]
    },
    {
      "cell_type": "markdown",
      "metadata": {
        "id": "9wA35ROyKlnG"
      },
      "source": [
        "A larger proportion of passengers aboard the titanic did not survive."
      ]
    },
    {
      "cell_type": "code",
      "metadata": {
        "colab": {
          "base_uri": "https://localhost:8080/",
          "height": 298
        },
        "id": "zijgezMMDMee",
        "outputId": "fc6e592e-8ae1-46a7-8110-d3d0a36660b1"
      },
      "source": [
        "# Visualizing the Gender of Patients\r\n",
        "sns.countplot('Pclass', data=train)\r\n",
        "plt.xlabel('Passenger Class', fontsize=12)\r\n",
        "plt.ylabel('Number of Passengers', fontsize=12)\r\n",
        "plt.title('Bar Graph of Passenger Class', fontsize=12)\r\n",
        "plt.show()"
      ],
      "execution_count": 38,
      "outputs": [
        {
          "output_type": "display_data",
          "data": {
            "image/png": "[encoded data removed]",
            "text/plain": [
              "<Figure size 432x288 with 1 Axes>"
            ]
          },
          "metadata": {
            "tags": [],
            "needs_background": "light"
          }
        }
      ]
    },
    {
      "cell_type": "markdown",
      "metadata": {
        "id": "bCaIIKhEF_ts"
      },
      "source": [
        "The largest portion of passengers aboard the titanic were in the 3rd class, and an almost equal portion were in the 1st and 2nd classes."
      ]
    },
    {
      "cell_type": "code",
      "metadata": {
        "colab": {
          "base_uri": "https://localhost:8080/",
          "height": 409
        },
        "id": "YLfqzzlzDMU2",
        "outputId": "9b421f96-ae9a-41d2-cd53-dbf59ba6c04d"
      },
      "source": [
        "# Visualizing the age of patients.\r\n",
        "plt.figure(figsize = (20,8))\r\n",
        "train['Age'].value_counts().plot(kind='bar',rot=90)\r\n",
        "plt.xlabel('Age of Passengers')\r\n",
        "plt.ylabel('Number of Passengers')\r\n",
        "plt.title('Bar Graph of Passengers Age')\r\n",
        "plt.show()"
      ],
      "execution_count": 39,
      "outputs": [
        {
          "output_type": "display_data",
          "data": {
            "image/png": "[encoded data removed]",
            "text/plain": [
              "<Figure size 1440x576 with 1 Axes>"
            ]
          },
          "metadata": {
            "tags": [],
            "needs_background": "light"
          }
        }
      ]
    },
    {
      "cell_type": "markdown",
      "metadata": {
        "id": "7MMB-eBASOVW"
      },
      "source": [
        "A large proportion of passengers were of age 24 years, and most of the other passengers were distributed between ages 18 and 50 years."
      ]
    },
    {
      "cell_type": "code",
      "metadata": {
        "colab": {
          "base_uri": "https://localhost:8080/",
          "height": 298
        },
        "id": "DFRe6mqYRaGc",
        "outputId": "5163404b-d571-432a-a5da-42f6f09d12b0"
      },
      "source": [
        "# Visualizing the Status of patients\r\n",
        "sns.countplot('SibSp', data=train)\r\n",
        "plt.xlabel('Number of Passengers with Siblings or Spouses Aboard', fontsize=12)\r\n",
        "plt.ylabel('Number of Passengers', fontsize=12)\r\n",
        "plt.title('Bar Graph of Siblings or Souses Aboard', fontsize=12)\r\n",
        "plt.show()"
      ],
      "execution_count": 40,
      "outputs": [
        {
          "output_type": "display_data",
          "data": {
            "image/png": "[encoded data removed]",
            "text/plain": [
              "<Figure size 432x288 with 1 Axes>"
            ]
          },
          "metadata": {
            "tags": [],
            "needs_background": "light"
          }
        }
      ]
    },
    {
      "cell_type": "markdown",
      "metadata": {
        "id": "h8TMwopiS4Wh"
      },
      "source": [
        "Most of the passengers did not have a sibling or spouse aboard with them, some had one and even fewer had two or more siblings or spouses aboard with them."
      ]
    },
    {
      "cell_type": "code",
      "metadata": {
        "colab": {
          "base_uri": "https://localhost:8080/",
          "height": 298
        },
        "id": "fUCVk8YURbo0",
        "outputId": "2eb51bd3-8734-4d67-e9b3-dba7b01beda0"
      },
      "source": [
        "# Visualizing the Status of patients\r\n",
        "\r\n",
        "sns.countplot('Parch', data=train)\r\n",
        "plt.xlabel('Number of Parents or Children', fontsize=12)\r\n",
        "plt.ylabel('Number of Passengers', fontsize=12)\r\n",
        "plt.title('Bar Graph of Parents or Children Aboard', fontsize=12)\r\n",
        "plt.show()"
      ],
      "execution_count": 41,
      "outputs": [
        {
          "output_type": "display_data",
          "data": {
            "image/png": "[encoded data removed]",
            "text/plain": [
              "<Figure size 432x288 with 1 Axes>"
            ]
          },
          "metadata": {
            "tags": [],
            "needs_background": "light"
          }
        }
      ]
    },
    {
      "cell_type": "markdown",
      "metadata": {
        "id": "9fI6faSbDW5t"
      },
      "source": [
        "Most of the passengers did not have a parent or child aboard with them, but some had one, two up six children aboard with them."
      ]
    },
    {
      "cell_type": "markdown",
      "metadata": {
        "id": "G5zHrqENLaqc"
      },
      "source": [
        "## Bivariate Analysis."
      ]
    },
    {
      "cell_type": "code",
      "metadata": {
        "id": "bt8KlAlELx3J",
        "colab": {
          "base_uri": "https://localhost:8080/",
          "height": 487
        },
        "outputId": "41e13560-d9bb-4413-cfff-aab76a8ba834"
      },
      "source": [
        "# Heatmap showing how all variables correlate\r\n",
        "\r\n",
        "corr = train[['Survived', 'Pclass', 'Sex', 'Age', 'SibSp', 'Parch']].corr()\r\n",
        "plt.figure(figsize = (13, 8))\r\n",
        "sns.heatmap(corr, annot = True, center = 0)\r\n",
        "plt.show()"
      ],
      "execution_count": 42,
      "outputs": [
        {
          "output_type": "display_data",
          "data": {
            "image/png": "[encoded data removed]",
            "text/plain": [
              "<Figure size 936x576 with 2 Axes>"
            ]
          },
          "metadata": {
            "tags": [],
            "needs_background": "light"
          }
        }
      ]
    },
    {
      "cell_type": "markdown",
      "metadata": {
        "id": "pDIBAnP5YflK"
      },
      "source": [
        "* There is little correlation between most of the features.\r\n",
        "* There is significant positive correlation between SibSp and Parch columns."
      ]
    },
    {
      "cell_type": "code",
      "metadata": {
        "colab": {
          "base_uri": "https://localhost:8080/",
          "height": 921
        },
        "id": "mRzHcO7ZPfHb",
        "outputId": "bf24b2d7-ce7f-41d9-b97b-8cf0568af71b"
      },
      "source": [
        "#a scatter plot showing how all numerical variables correlate with each other\r\n",
        "plt.figure(figsize = (4,4))\r\n",
        "sns.pairplot(train[['Survived', 'Pclass', 'Sex', 'Age', 'SibSp', 'Parch']])\r\n",
        "plt.show()"
      ],
      "execution_count": 43,
      "outputs": [
        {
          "output_type": "display_data",
          "data": {
            "text/plain": [
              "<Figure size 288x288 with 0 Axes>"
            ]
          },
          "metadata": {
            "tags": []
          }
        },
        {
          "output_type": "display_data",
          "data": {
            "image/png": "[encoded data removed]",
            "text/plain": [
              "<Figure size 900x900 with 30 Axes>"
            ]
          },
          "metadata": {
            "tags": [],
            "needs_background": "light"
          }
        }
      ]
    },
    {
      "cell_type": "code",
      "metadata": {
        "colab": {
          "base_uri": "https://localhost:8080/",
          "height": 401
        },
        "id": "Wo__LvCQogV5",
        "outputId": "ac83db94-6e46-4bc1-ab16-4d8c075c995d"
      },
      "source": [
        "# Plotting the Survival for each Passenger Class.\r\n",
        "x,y = 'Pclass', 'Survived'\r\n",
        "(train\r\n",
        ".groupby(x)[y]\r\n",
        ".value_counts(normalize=True)\r\n",
        ".mul(100)\r\n",
        ".rename('Percent')\r\n",
        ".reset_index()\r\n",
        ".pipe((sns.catplot,'data'), x=x,y='Percent',hue=y,kind='bar'))"
      ],
      "execution_count": 44,
      "outputs": [
        {
          "output_type": "execute_result",
          "data": {
            "text/plain": [
              "<seaborn.axisgrid.FacetGrid at 0x7f378ae4ea50>"
            ]
          },
          "metadata": {
            "tags": []
          },
          "execution_count": 44
        },
        {
          "output_type": "display_data",
          "data": {
            "image/png": "[encoded data removed]",
            "text/plain": [
              "<Figure size 411.875x360 with 1 Axes>"
            ]
          },
          "metadata": {
            "tags": [],
            "needs_background": "light"
          }
        }
      ]
    },
    {
      "cell_type": "markdown",
      "metadata": {
        "id": "45KqhJmfW_O0"
      },
      "source": [
        "More than 60% of First Class passengers survived, followed by the Second Class where almost 50% survived, while less than 30% of passengers in the Third Class survived."
      ]
    },
    {
      "cell_type": "code",
      "metadata": {
        "colab": {
          "base_uri": "https://localhost:8080/",
          "height": 401
        },
        "id": "GfW3mdS8WUxI",
        "outputId": "f782922a-f584-4531-84d7-01b5f7308b7a"
      },
      "source": [
        "# Plotting the Survival for each Gender.\r\n",
        "x,y = 'Sex', 'Survived'\r\n",
        "(train\r\n",
        ".groupby(x)[y]\r\n",
        ".value_counts(normalize=True)\r\n",
        ".mul(100)\r\n",
        ".rename('Percent')\r\n",
        ".reset_index()\r\n",
        ".pipe((sns.catplot,'data'), x=x,y='Percent',hue=y,kind='bar'))"
      ],
      "execution_count": 45,
      "outputs": [
        {
          "output_type": "execute_result",
          "data": {
            "text/plain": [
              "<seaborn.axisgrid.FacetGrid at 0x7f378215c210>"
            ]
          },
          "metadata": {
            "tags": []
          },
          "execution_count": 45
        },
        {
          "output_type": "display_data",
          "data": {
            "image/png": "[encoded data removed]",
            "text/plain": [
              "<Figure size 411.875x360 with 1 Axes>"
            ]
          },
          "metadata": {
            "tags": [],
            "needs_background": "light"
          }
        }
      ]
    },
    {
      "cell_type": "markdown",
      "metadata": {
        "id": "Z8UU0JsFXnwT"
      },
      "source": [
        "More than 70% of the female passengers survived while less than 20% of male passengers sorvived."
      ]
    },
    {
      "cell_type": "markdown",
      "metadata": {
        "id": "vTbdjSrhVIiT"
      },
      "source": [
        "# Implementing the Solution"
      ]
    },
    {
      "cell_type": "markdown",
      "metadata": {
        "id": "42Une4w9pSxM"
      },
      "source": [
        "## KNN Model."
      ]
    },
    {
      "cell_type": "code",
      "metadata": {
        "id": "v425sSVJhxrU"
      },
      "source": [
        "# Defing categorical columns\r\n",
        "categorical=['Sex']"
      ],
      "execution_count": 46,
      "outputs": []
    },
    {
      "cell_type": "code",
      "metadata": {
        "colab": {
          "base_uri": "https://localhost:8080/",
          "height": 108
        },
        "id": "etg2m2cpfons",
        "outputId": "da1b7fcc-6841-4f54-8fb4-9d476d0cc343"
      },
      "source": [
        "# Creating a dataframe for KNN Modelling\r\n",
        "df_le = train\r\n",
        "# Label encoding.\r\n",
        "from sklearn.preprocessing import LabelEncoder\r\n",
        "# instantiate labelencoder object\r\n",
        "le = LabelEncoder()\r\n",
        "# apply le on categorical feature columns\r\n",
        "df_le[categorical] = df_le[categorical].apply(lambda col: le.fit_transform(col))\r\n",
        "df_le.head(2)"
      ],
      "execution_count": 47,
      "outputs": [
        {
          "output_type": "execute_result",
          "data": {
            "text/html": [
              "<div>\n",
              "<style scoped>\n",
              "    .dataframe tbody tr th:only-of-type {\n",
              "        vertical-align: middle;\n",
              "    }\n",
              "\n",
              "    .dataframe tbody tr th {\n",
              "        vertical-align: top;\n",
              "    }\n",
              "\n",
              "    .dataframe thead th {\n",
              "        text-align: right;\n",
              "    }\n",
              "</style>\n",
              "<table border=\"1\" class=\"dataframe\">\n",
              "  <thead>\n",
              "    <tr style=\"text-align: right;\">\n",
              "      <th></th>\n",
              "      <th>Survived</th>\n",
              "      <th>Pclass</th>\n",
              "      <th>Sex</th>\n",
              "      <th>Age</th>\n",
              "      <th>SibSp</th>\n",
              "      <th>Parch</th>\n",
              "    </tr>\n",
              "  </thead>\n",
              "  <tbody>\n",
              "    <tr>\n",
              "      <th>0</th>\n",
              "      <td>0</td>\n",
              "      <td>3</td>\n",
              "      <td>1</td>\n",
              "      <td>22.0</td>\n",
              "      <td>1</td>\n",
              "      <td>0</td>\n",
              "    </tr>\n",
              "    <tr>\n",
              "      <th>1</th>\n",
              "      <td>1</td>\n",
              "      <td>1</td>\n",
              "      <td>0</td>\n",
              "      <td>38.0</td>\n",
              "      <td>1</td>\n",
              "      <td>0</td>\n",
              "    </tr>\n",
              "  </tbody>\n",
              "</table>\n",
              "</div>"
            ],
            "text/plain": [
              "   Survived  Pclass  Sex   Age  SibSp  Parch\n",
              "0         0       3    1  22.0      1      0\n",
              "1         1       1    0  38.0      1      0"
            ]
          },
          "metadata": {
            "tags": []
          },
          "execution_count": 47
        }
      ]
    },
    {
      "cell_type": "code",
      "metadata": {
        "id": "PYd0KsmItis1"
      },
      "source": [
        "# Defining our variables\n",
        "df = df_le\n",
        "from sklearn.preprocessing import StandardScaler\n",
        "variables = ['Pclass', 'Sex', 'Age', 'SibSp', 'Parch']\n",
        "X = df.loc[:, variables].values\n",
        "y = df.loc[:,['Survived']].values\n",
        "X = StandardScaler().fit_transform(X)\n",
        "X = pd.DataFrame(X)"
      ],
      "execution_count": 48,
      "outputs": []
    },
    {
      "cell_type": "markdown",
      "metadata": {
        "id": "_9_NiyJVENwA"
      },
      "source": [
        "## 80-20 Split."
      ]
    },
    {
      "cell_type": "code",
      "metadata": {
        "id": "FMXp0UmP5CFe"
      },
      "source": [
        "# Train Test Split\n",
        "from sklearn.model_selection import train_test_split\n",
        "X_train, X_test, y_train, y_test = train_test_split(X, y, test_size=0.20, random_state=0)"
      ],
      "execution_count": 49,
      "outputs": []
    },
    {
      "cell_type": "code",
      "metadata": {
        "id": "97WVx1M45CFf"
      },
      "source": [
        "# Feature Scaling\n",
        "from sklearn.preprocessing import StandardScaler\n",
        "scaler = StandardScaler()\n",
        "scaler.fit(X_train)\n",
        "\n",
        "X_train = scaler.transform(X_train)\n",
        "X_test = scaler.transform(X_test)"
      ],
      "execution_count": 50,
      "outputs": []
    },
    {
      "cell_type": "code",
      "metadata": {
        "id": "G-aW9IvK5CFg",
        "colab": {
          "base_uri": "https://localhost:8080/"
        },
        "outputId": "e991401b-c231-4de7-ea60-c3db0ab9e85a"
      },
      "source": [
        "# Training and Predictions\n",
        "from sklearn.neighbors import KNeighborsClassifier\n",
        "classifier = KNeighborsClassifier()\n",
        "classifier.fit(X_train, y_train)"
      ],
      "execution_count": 51,
      "outputs": [
        {
          "output_type": "execute_result",
          "data": {
            "text/plain": [
              "KNeighborsClassifier(algorithm='auto', leaf_size=30, metric='minkowski',\n",
              "                     metric_params=None, n_jobs=None, n_neighbors=5, p=2,\n",
              "                     weights='uniform')"
            ]
          },
          "metadata": {
            "tags": []
          },
          "execution_count": 51
        }
      ]
    },
    {
      "cell_type": "code",
      "metadata": {
        "id": "RJAYiMUz5CFi",
        "colab": {
          "base_uri": "https://localhost:8080/"
        },
        "outputId": "3339cc06-a8d6-44a9-9744-f99ad9a54b8d"
      },
      "source": [
        "# The final step is to make predictions on our test data\n",
        "y_pred = classifier.predict(X_test)\n",
        "y_pred"
      ],
      "execution_count": 52,
      "outputs": [
        {
          "output_type": "execute_result",
          "data": {
            "text/plain": [
              "array([0, 0, 0, 1, 0, 0, 1, 1, 1, 0, 0, 1, 0, 1, 1, 1, 0, 0, 0, 1, 0, 1,\n",
              "       0, 0, 1, 1, 0, 1, 1, 0, 0, 1, 0, 0, 0, 0, 0, 0, 0, 0, 0, 0, 0, 0,\n",
              "       1, 0, 0, 1, 0, 0, 0, 0, 1, 0, 0, 0, 0, 0, 0, 0, 0, 0, 1, 0, 0, 0,\n",
              "       1, 0, 1, 1, 1, 1, 1, 0, 0, 1, 1, 0, 0, 0, 0, 0, 1, 0, 0, 1, 1, 0,\n",
              "       1, 0, 0, 0, 1, 1, 0, 0, 1, 0, 0, 1, 0, 0, 0, 0, 0, 0, 1, 0, 0, 1,\n",
              "       0, 1, 0, 0, 0, 1, 1, 1, 0, 1, 0, 0, 0, 0, 0, 0, 0, 0, 0, 0, 1, 0,\n",
              "       0, 0, 0, 0, 0, 0, 0, 0, 0, 1, 0, 1, 1, 0, 0, 1, 1, 0, 1, 0, 0, 0,\n",
              "       1, 0, 0, 0, 0, 1, 0, 0, 1, 0, 0, 0, 0, 0, 0, 0, 0, 1, 0, 0, 1, 0,\n",
              "       1, 0, 0])"
            ]
          },
          "metadata": {
            "tags": []
          },
          "execution_count": 52
        }
      ]
    },
    {
      "cell_type": "code",
      "metadata": {
        "colab": {
          "base_uri": "https://localhost:8080/"
        },
        "id": "NtzRb_eC5CFk",
        "outputId": "3aa57410-2aa6-44be-9461-7aec30aa8cfa"
      },
      "source": [
        "# Evaluating the Algorithm\n",
        "from sklearn.metrics import accuracy_score\n",
        "from sklearn.metrics import f1_score\n",
        "from sklearn.metrics import classification_report, confusion_matrix\n",
        "print('Accuracy score =:', accuracy_score(y_test, y_pred))\n",
        "print('f1 score=',  f1_score(y_test, y_pred))\n",
        "print(confusion_matrix(y_test, y_pred))\n",
        "print(classification_report(y_test, y_pred))"
      ],
      "execution_count": 53,
      "outputs": [
        {
          "output_type": "stream",
          "text": [
            "Accuracy score =: 0.8324022346368715\n",
            "f1 score= 0.7580645161290324\n",
            "[[102   8]\n",
            " [ 22  47]]\n",
            "              precision    recall  f1-score   support\n",
            "\n",
            "           0       0.82      0.93      0.87       110\n",
            "           1       0.85      0.68      0.76        69\n",
            "\n",
            "    accuracy                           0.83       179\n",
            "   macro avg       0.84      0.80      0.81       179\n",
            "weighted avg       0.83      0.83      0.83       179\n",
            "\n"
          ],
          "name": "stdout"
        }
      ]
    },
    {
      "cell_type": "code",
      "metadata": {
        "colab": {
          "base_uri": "https://localhost:8080/"
        },
        "id": "_QLwk7uGlYk7",
        "outputId": "cd4945fe-7403-4be2-a962-6537038c43ba"
      },
      "source": [
        "# Assessing the errors\r\n",
        "import sklearn.metrics as metrics\r\n",
        "print('Mean Absolute Error:', metrics.mean_absolute_error(y_test, y_pred))  \r\n",
        "print('Mean Squared Error:', metrics.mean_squared_error(y_test, y_pred))  \r\n",
        "print('Root Mean Squared Error:', np.sqrt(metrics.mean_squared_error(y_test, y_pred)))"
      ],
      "execution_count": 54,
      "outputs": [
        {
          "output_type": "stream",
          "text": [
            "Mean Absolute Error: 0.16759776536312848\n",
            "Mean Squared Error: 0.16759776536312848\n",
            "Root Mean Squared Error: 0.40938706057120133\n"
          ],
          "name": "stdout"
        }
      ]
    },
    {
      "cell_type": "markdown",
      "metadata": {
        "id": "BoeI61S3FPsu"
      },
      "source": [
        "The initial 80-20 split model had an accuracy of 83.24% and an f1 score of 75.8%.\r\n",
        "\r\n",
        "The confusion matrix had 102, 47 accurate predictions and 8, 22 inaccurate predictions."
      ]
    },
    {
      "cell_type": "markdown",
      "metadata": {
        "id": "Uja6Uu8rkAXW"
      },
      "source": [
        "## 70-30 Split."
      ]
    },
    {
      "cell_type": "code",
      "metadata": {
        "colab": {
          "base_uri": "https://localhost:8080/"
        },
        "id": "TlpsSvyhkHVt",
        "outputId": "0f21959f-6eb6-4381-d2b8-9b8393b20c5f"
      },
      "source": [
        "# Train Test Split\r\n",
        "from sklearn.model_selection import train_test_split\r\n",
        "X_train, X_test, y_train, y_test = train_test_split(X, y, test_size=0.30, random_state=0)\r\n",
        "\r\n",
        "# Feature Scaling\r\n",
        "from sklearn.preprocessing import StandardScaler\r\n",
        "scaler = StandardScaler()\r\n",
        "scaler.fit(X_train)\r\n",
        "X_train = scaler.transform(X_train)\r\n",
        "X_test = scaler.transform(X_test)\r\n",
        "\r\n",
        "# Training and Predictions\r\n",
        "from sklearn.neighbors import KNeighborsClassifier\r\n",
        "classifier = KNeighborsClassifier()\r\n",
        "classifier.fit(X_train, y_train)\r\n",
        "\r\n",
        "# The final step is to make predictions on our test data\r\n",
        "y_pred = classifier.predict(X_test)\r\n",
        "\r\n",
        "# Evaluating the Algorithm\r\n",
        "from sklearn.metrics import accuracy_score\r\n",
        "from sklearn.metrics import f1_score\r\n",
        "from sklearn.metrics import classification_report, confusion_matrix\r\n",
        "print('Accuracy score =:', accuracy_score(y_test, y_pred))\r\n",
        "print('f1 score=',  f1_score(y_test, y_pred))\r\n",
        "print(confusion_matrix(y_test, y_pred))\r\n",
        "print(classification_report(y_test, y_pred))"
      ],
      "execution_count": 55,
      "outputs": [
        {
          "output_type": "stream",
          "text": [
            "Accuracy score =: 0.7835820895522388\n",
            "f1 score= 0.7070707070707072\n",
            "[[140  28]\n",
            " [ 30  70]]\n",
            "              precision    recall  f1-score   support\n",
            "\n",
            "           0       0.82      0.83      0.83       168\n",
            "           1       0.71      0.70      0.71       100\n",
            "\n",
            "    accuracy                           0.78       268\n",
            "   macro avg       0.77      0.77      0.77       268\n",
            "weighted avg       0.78      0.78      0.78       268\n",
            "\n"
          ],
          "name": "stdout"
        }
      ]
    },
    {
      "cell_type": "code",
      "metadata": {
        "colab": {
          "base_uri": "https://localhost:8080/"
        },
        "id": "jQo_e7SMlwyB",
        "outputId": "994fa33a-6a99-451c-81bb-917d16572c66"
      },
      "source": [
        "# Assessing the errors\r\n",
        "print('Mean Absolute Error:', metrics.mean_absolute_error(y_test, y_pred))  \r\n",
        "print('Mean Squared Error:', metrics.mean_squared_error(y_test, y_pred))  \r\n",
        "print('Root Mean Squared Error:', np.sqrt(metrics.mean_squared_error(y_test, y_pred)))"
      ],
      "execution_count": 56,
      "outputs": [
        {
          "output_type": "stream",
          "text": [
            "Mean Absolute Error: 0.21641791044776118\n",
            "Mean Squared Error: 0.21641791044776118\n",
            "Root Mean Squared Error: 0.46520738434354325\n"
          ],
          "name": "stdout"
        }
      ]
    },
    {
      "cell_type": "markdown",
      "metadata": {
        "id": "1x3Ef9fnGEcE"
      },
      "source": [
        "The 70-30 split model had an accuracy of 78.36% and an f1 score of 70.7%.\r\n",
        "\r\n",
        "The confusion matrix had 140, 70 accurate predictions and 28, 30 inaccurate predictions."
      ]
    },
    {
      "cell_type": "markdown",
      "metadata": {
        "id": "HnTRTLHkmOF4"
      },
      "source": [
        "## 60-40 Split."
      ]
    },
    {
      "cell_type": "code",
      "metadata": {
        "colab": {
          "base_uri": "https://localhost:8080/"
        },
        "id": "-RQowy79mXDd",
        "outputId": "06a7e0d9-5d03-4c72-e98f-7addddfa8310"
      },
      "source": [
        "# Train Test Split\r\n",
        "from sklearn.model_selection import train_test_split\r\n",
        "X_train, X_test, y_train, y_test = train_test_split(X, y, test_size=0.40, random_state=0)\r\n",
        "\r\n",
        "# Feature Scaling\r\n",
        "from sklearn.preprocessing import StandardScaler\r\n",
        "scaler = StandardScaler()\r\n",
        "scaler.fit(X_train)\r\n",
        "X_train = scaler.transform(X_train)\r\n",
        "X_test = scaler.transform(X_test)\r\n",
        "\r\n",
        "# Training and Predictions\r\n",
        "from sklearn.neighbors import KNeighborsClassifier\r\n",
        "classifier = KNeighborsClassifier()\r\n",
        "classifier.fit(X_train, y_train)\r\n",
        "\r\n",
        "# The final step is to make predictions on our test data\r\n",
        "y_pred = classifier.predict(X_test)\r\n",
        "\r\n",
        "# Evaluating the Algorithm\r\n",
        "from sklearn.metrics import accuracy_score\r\n",
        "from sklearn.metrics import f1_score\r\n",
        "from sklearn.metrics import classification_report, confusion_matrix\r\n",
        "print('Accuracy score =:', accuracy_score(y_test, y_pred))\r\n",
        "print('f1 score=',  f1_score(y_test, y_pred))\r\n",
        "print(confusion_matrix(y_test, y_pred))\r\n",
        "print(classification_report(y_test, y_pred))"
      ],
      "execution_count": 57,
      "outputs": [
        {
          "output_type": "stream",
          "text": [
            "Accuracy score =: 0.773109243697479\n",
            "f1 score= 0.6966292134831461\n",
            "[[183  38]\n",
            " [ 43  93]]\n",
            "              precision    recall  f1-score   support\n",
            "\n",
            "           0       0.81      0.83      0.82       221\n",
            "           1       0.71      0.68      0.70       136\n",
            "\n",
            "    accuracy                           0.77       357\n",
            "   macro avg       0.76      0.76      0.76       357\n",
            "weighted avg       0.77      0.77      0.77       357\n",
            "\n"
          ],
          "name": "stdout"
        }
      ]
    },
    {
      "cell_type": "code",
      "metadata": {
        "colab": {
          "base_uri": "https://localhost:8080/"
        },
        "id": "fHzZ4PcbmXDo",
        "outputId": "345963ef-51a0-4f03-996d-ebf87be92861"
      },
      "source": [
        "# Assessing the errors\r\n",
        "print('Mean Absolute Error:', metrics.mean_absolute_error(y_test, y_pred))  \r\n",
        "print('Mean Squared Error:', metrics.mean_squared_error(y_test, y_pred))  \r\n",
        "print('Root Mean Squared Error:', np.sqrt(metrics.mean_squared_error(y_test, y_pred)))"
      ],
      "execution_count": 58,
      "outputs": [
        {
          "output_type": "stream",
          "text": [
            "Mean Absolute Error: 0.226890756302521\n",
            "Mean Squared Error: 0.226890756302521\n",
            "Root Mean Squared Error: 0.4763305116224668\n"
          ],
          "name": "stdout"
        }
      ]
    },
    {
      "cell_type": "markdown",
      "metadata": {
        "id": "WX_Bh7j3Gah6"
      },
      "source": [
        "The 60-40 split model had an accuracy of 77.3% and an f1 score of 69.7%.\r\n",
        "\r\n",
        "The confusion matrix had 183, 93 accurate predictions and 38, 43 inaccurate predictions."
      ]
    },
    {
      "cell_type": "markdown",
      "metadata": {
        "id": "rkxGrk3DmWi6"
      },
      "source": [
        "# Hyperparameter tuning."
      ]
    },
    {
      "cell_type": "markdown",
      "metadata": {
        "id": "gfR9i7k1l5di"
      },
      "source": [
        "## Feature reduction."
      ]
    },
    {
      "cell_type": "code",
      "metadata": {
        "id": "emuoqnidl-pE"
      },
      "source": [
        "# # Peforming LDA\r\n",
        "from sklearn.discriminant_analysis import LinearDiscriminantAnalysis as LDA\r\n",
        "lda = LDA(n_components=1)\r\n",
        "X_train = lda.fit_transform(X_train, y_train)\r\n",
        "X_test = lda.transform(X_test)"
      ],
      "execution_count": 59,
      "outputs": []
    },
    {
      "cell_type": "code",
      "metadata": {
        "colab": {
          "base_uri": "https://localhost:8080/"
        },
        "id": "XB7Ot2t7eHc_",
        "outputId": "88074aeb-4b1e-46f0-c319-c5217ab8a628"
      },
      "source": [
        "from sklearn.model_selection import GridSearchCV\r\n",
        "import warnings\r\n",
        "warnings.filterwarnings(action = 'ignore')\r\n",
        "#List Hyperparameters that we want to tune.\r\n",
        "leaf_size = list(range(1,50))\r\n",
        "n_neighbors = list(range(1,30))\r\n",
        "p=[1,2]\r\n",
        "# we create a list\r\n",
        "weight_options = ['uniform', 'distance']\r\n",
        "#Convert to dictionary\r\n",
        "hyperparameters = dict(leaf_size=leaf_size, n_neighbors=n_neighbors, p=p,)\r\n",
        "#Create new KNN object\r\n",
        "knn = KNeighborsClassifier()\r\n",
        "#Use GridSearch\r\n",
        "clf = GridSearchCV(knn, hyperparameters, cv=10)\r\n",
        "#Fit the model\r\n",
        "best_model = clf.fit(X,y)\r\n",
        "#Print The value of best Hyperparameters\r\n",
        "print('Best leaf_size:', best_model.best_estimator_.get_params()['leaf_size'])\r\n",
        "print('Best p:', best_model.best_estimator_.get_params()['p'])\r\n",
        "print('Best n_neighbors:', best_model.best_estimator_.get_params()['n_neighbors'])"
      ],
      "execution_count": 60,
      "outputs": [
        {
          "output_type": "stream",
          "text": [
            "Best leaf_size: 26\n",
            "Best p: 1\n",
            "Best n_neighbors: 13\n"
          ],
          "name": "stdout"
        }
      ]
    },
    {
      "cell_type": "code",
      "metadata": {
        "id": "tkC2p41Dj6MI"
      },
      "source": [
        "# Training and Predictions\r\n",
        "from sklearn.neighbors import KNeighborsClassifier\r\n",
        "classifier = KNeighborsClassifier(n_neighbors=13,leaf_size=26,p=1)\r\n",
        "classifier.fit(X_train, y_train)\r\n",
        "# The final step is to make predictions on our test data\r\n",
        "y_pred = classifier.predict(X_test)"
      ],
      "execution_count": 61,
      "outputs": []
    },
    {
      "cell_type": "code",
      "metadata": {
        "colab": {
          "base_uri": "https://localhost:8080/"
        },
        "id": "LvTpQvmHj_a6",
        "outputId": "48678229-1273-44cc-90e1-1fad88155799"
      },
      "source": [
        "# Evaluating the Algorithm\r\n",
        "print('Accuracy score =:', accuracy_score(y_test, y_pred))\r\n",
        "print('f1 score=',  f1_score(y_test, y_pred))\r\n",
        "print(confusion_matrix(y_test, y_pred))\r\n",
        "print(classification_report(y_test, y_pred))"
      ],
      "execution_count": 62,
      "outputs": [
        {
          "output_type": "stream",
          "text": [
            "Accuracy score =: 0.7955182072829131\n",
            "f1 score= 0.6970954356846473\n",
            "[[200  21]\n",
            " [ 52  84]]\n",
            "              precision    recall  f1-score   support\n",
            "\n",
            "           0       0.79      0.90      0.85       221\n",
            "           1       0.80      0.62      0.70       136\n",
            "\n",
            "    accuracy                           0.80       357\n",
            "   macro avg       0.80      0.76      0.77       357\n",
            "weighted avg       0.80      0.80      0.79       357\n",
            "\n"
          ],
          "name": "stdout"
        }
      ]
    },
    {
      "cell_type": "code",
      "metadata": {
        "id": "W4qed0dvLyeT",
        "colab": {
          "base_uri": "https://localhost:8080/"
        },
        "outputId": "b6458fb0-1917-4fe0-b1d3-f75f8940f292"
      },
      "source": [
        "# Assessing the errors\r\n",
        "print('Mean Absolute Error:', metrics.mean_absolute_error(y_test, y_pred))  \r\n",
        "print('Mean Squared Error:', metrics.mean_squared_error(y_test, y_pred))  \r\n",
        "print('Root Mean Squared Error:', np.sqrt(metrics.mean_squared_error(y_test, y_pred)))"
      ],
      "execution_count": 63,
      "outputs": [
        {
          "output_type": "stream",
          "text": [
            "Mean Absolute Error: 0.20448179271708683\n",
            "Mean Squared Error: 0.20448179271708683\n",
            "Root Mean Squared Error: 0.45219663059015247\n"
          ],
          "name": "stdout"
        }
      ]
    },
    {
      "cell_type": "markdown",
      "metadata": {
        "id": "bowV2wqxHCfN"
      },
      "source": [
        "The iproved 80-20 split model had an accuracy of 79.5% and an f1 score of 69.7%.\r\n",
        "\r\n",
        "The confusion matrix had 200, 84 accurate predictions and 21, 52 inaccurate predictions."
      ]
    },
    {
      "cell_type": "markdown",
      "metadata": {
        "id": "zJWgnWBHqewH"
      },
      "source": [
        "# Testing using the test data."
      ]
    },
    {
      "cell_type": "code",
      "metadata": {
        "colab": {
          "base_uri": "https://localhost:8080/",
          "height": 108
        },
        "id": "YNO8IZetKFAj",
        "outputId": "0bfc2473-750f-4177-ec89-d7772e20879e"
      },
      "source": [
        "# Previewing the testing dataframe\r\n",
        "test.head(2)"
      ],
      "execution_count": 64,
      "outputs": [
        {
          "output_type": "execute_result",
          "data": {
            "text/html": [
              "<div>\n",
              "<style scoped>\n",
              "    .dataframe tbody tr th:only-of-type {\n",
              "        vertical-align: middle;\n",
              "    }\n",
              "\n",
              "    .dataframe tbody tr th {\n",
              "        vertical-align: top;\n",
              "    }\n",
              "\n",
              "    .dataframe thead th {\n",
              "        text-align: right;\n",
              "    }\n",
              "</style>\n",
              "<table border=\"1\" class=\"dataframe\">\n",
              "  <thead>\n",
              "    <tr style=\"text-align: right;\">\n",
              "      <th></th>\n",
              "      <th>Pclass</th>\n",
              "      <th>Sex</th>\n",
              "      <th>Age</th>\n",
              "      <th>SibSp</th>\n",
              "      <th>Parch</th>\n",
              "    </tr>\n",
              "  </thead>\n",
              "  <tbody>\n",
              "    <tr>\n",
              "      <th>0</th>\n",
              "      <td>3</td>\n",
              "      <td>male</td>\n",
              "      <td>34.5</td>\n",
              "      <td>0</td>\n",
              "      <td>0</td>\n",
              "    </tr>\n",
              "    <tr>\n",
              "      <th>1</th>\n",
              "      <td>3</td>\n",
              "      <td>female</td>\n",
              "      <td>47.0</td>\n",
              "      <td>1</td>\n",
              "      <td>0</td>\n",
              "    </tr>\n",
              "  </tbody>\n",
              "</table>\n",
              "</div>"
            ],
            "text/plain": [
              "   Pclass     Sex   Age  SibSp  Parch\n",
              "0       3    male  34.5      0      0\n",
              "1       3  female  47.0      1      0"
            ]
          },
          "metadata": {
            "tags": []
          },
          "execution_count": 64
        }
      ]
    },
    {
      "cell_type": "code",
      "metadata": {
        "id": "oU-DzFKprzy-"
      },
      "source": [
        "# Defining categorical columns\r\n",
        "categorical=['Sex']"
      ],
      "execution_count": 65,
      "outputs": []
    },
    {
      "cell_type": "code",
      "metadata": {
        "colab": {
          "base_uri": "https://localhost:8080/",
          "height": 108
        },
        "id": "050ThRp5rzy-",
        "outputId": "eca53b64-cf18-4cc9-d76e-4832d8c33abd"
      },
      "source": [
        "# Creating a dataframe for KNN Modelling\r\n",
        "df_le = test\r\n",
        "# Label encoding.\r\n",
        "from sklearn.preprocessing import LabelEncoder\r\n",
        "# instantiate labelencoder object\r\n",
        "le = LabelEncoder()\r\n",
        "# apply le on categorical feature columns\r\n",
        "df_le[categorical] = df_le[categorical].apply(lambda col: le.fit_transform(col))\r\n",
        "df_le.head(2)"
      ],
      "execution_count": 66,
      "outputs": [
        {
          "output_type": "execute_result",
          "data": {
            "text/html": [
              "<div>\n",
              "<style scoped>\n",
              "    .dataframe tbody tr th:only-of-type {\n",
              "        vertical-align: middle;\n",
              "    }\n",
              "\n",
              "    .dataframe tbody tr th {\n",
              "        vertical-align: top;\n",
              "    }\n",
              "\n",
              "    .dataframe thead th {\n",
              "        text-align: right;\n",
              "    }\n",
              "</style>\n",
              "<table border=\"1\" class=\"dataframe\">\n",
              "  <thead>\n",
              "    <tr style=\"text-align: right;\">\n",
              "      <th></th>\n",
              "      <th>Pclass</th>\n",
              "      <th>Sex</th>\n",
              "      <th>Age</th>\n",
              "      <th>SibSp</th>\n",
              "      <th>Parch</th>\n",
              "    </tr>\n",
              "  </thead>\n",
              "  <tbody>\n",
              "    <tr>\n",
              "      <th>0</th>\n",
              "      <td>3</td>\n",
              "      <td>1</td>\n",
              "      <td>34.5</td>\n",
              "      <td>0</td>\n",
              "      <td>0</td>\n",
              "    </tr>\n",
              "    <tr>\n",
              "      <th>1</th>\n",
              "      <td>3</td>\n",
              "      <td>0</td>\n",
              "      <td>47.0</td>\n",
              "      <td>1</td>\n",
              "      <td>0</td>\n",
              "    </tr>\n",
              "  </tbody>\n",
              "</table>\n",
              "</div>"
            ],
            "text/plain": [
              "   Pclass  Sex   Age  SibSp  Parch\n",
              "0       3    1  34.5      0      0\n",
              "1       3    0  47.0      1      0"
            ]
          },
          "metadata": {
            "tags": []
          },
          "execution_count": 66
        }
      ]
    },
    {
      "cell_type": "code",
      "metadata": {
        "colab": {
          "base_uri": "https://localhost:8080/"
        },
        "id": "YgYJs849TsEA",
        "outputId": "3b1a3ad8-eb16-4330-a368-4ae4a4a50abb"
      },
      "source": [
        "# Checking the size of df_le dataframe\r\n",
        "df_le.shape"
      ],
      "execution_count": 67,
      "outputs": [
        {
          "output_type": "execute_result",
          "data": {
            "text/plain": [
              "(418, 5)"
            ]
          },
          "metadata": {
            "tags": []
          },
          "execution_count": 67
        }
      ]
    },
    {
      "cell_type": "code",
      "metadata": {
        "id": "OeSJJE9yJ_xI",
        "colab": {
          "base_uri": "https://localhost:8080/",
          "height": 108
        },
        "outputId": "0eb94cab-491d-4c52-f794-22f6383be96e"
      },
      "source": [
        "# Adding a new column to the test dataframe \r\n",
        "# Declare a list that is to be converted into a column \r\n",
        "data = np.random.randint(0,1,size=418)\r\n",
        "df = pd.DataFrame(data, columns=['Survived'])\r\n",
        "# Joining the dataframes\r\n",
        "test1 = pd.concat([df,df_le], axis=1)\r\n",
        "test1.head(2)"
      ],
      "execution_count": 68,
      "outputs": [
        {
          "output_type": "execute_result",
          "data": {
            "text/html": [
              "<div>\n",
              "<style scoped>\n",
              "    .dataframe tbody tr th:only-of-type {\n",
              "        vertical-align: middle;\n",
              "    }\n",
              "\n",
              "    .dataframe tbody tr th {\n",
              "        vertical-align: top;\n",
              "    }\n",
              "\n",
              "    .dataframe thead th {\n",
              "        text-align: right;\n",
              "    }\n",
              "</style>\n",
              "<table border=\"1\" class=\"dataframe\">\n",
              "  <thead>\n",
              "    <tr style=\"text-align: right;\">\n",
              "      <th></th>\n",
              "      <th>Survived</th>\n",
              "      <th>Pclass</th>\n",
              "      <th>Sex</th>\n",
              "      <th>Age</th>\n",
              "      <th>SibSp</th>\n",
              "      <th>Parch</th>\n",
              "    </tr>\n",
              "  </thead>\n",
              "  <tbody>\n",
              "    <tr>\n",
              "      <th>0</th>\n",
              "      <td>0</td>\n",
              "      <td>3</td>\n",
              "      <td>1</td>\n",
              "      <td>34.5</td>\n",
              "      <td>0</td>\n",
              "      <td>0</td>\n",
              "    </tr>\n",
              "    <tr>\n",
              "      <th>1</th>\n",
              "      <td>0</td>\n",
              "      <td>3</td>\n",
              "      <td>0</td>\n",
              "      <td>47.0</td>\n",
              "      <td>1</td>\n",
              "      <td>0</td>\n",
              "    </tr>\n",
              "  </tbody>\n",
              "</table>\n",
              "</div>"
            ],
            "text/plain": [
              "   Survived  Pclass  Sex   Age  SibSp  Parch\n",
              "0         0       3    1  34.5      0      0\n",
              "1         0       3    0  47.0      1      0"
            ]
          },
          "metadata": {
            "tags": []
          },
          "execution_count": 68
        }
      ]
    },
    {
      "cell_type": "code",
      "metadata": {
        "colab": {
          "base_uri": "https://localhost:8080/"
        },
        "id": "cCR0cJQnbDrq",
        "outputId": "acfde884-4aa3-4b1f-feac-0a11311de684"
      },
      "source": [
        "# Defining our variables\r\n",
        "df = test1\r\n",
        "from sklearn.preprocessing import StandardScaler\r\n",
        "variables = ['Pclass', 'Sex', 'Age', 'SibSp', 'Parch']\r\n",
        "X = df.loc[:, variables].values\r\n",
        "y = df.loc[:,['Survived']].values\r\n",
        "X = StandardScaler().fit_transform(X)\r\n",
        "X = pd.DataFrame(X)\r\n",
        "\r\n",
        "# Train Test Split\r\n",
        "from sklearn.model_selection import train_test_split\r\n",
        "X_train, X_test, y_train, y_test = train_test_split(X, y, test_size=0.40, random_state=0)\r\n",
        "\r\n",
        "# Feature Scaling\r\n",
        "from sklearn.preprocessing import StandardScaler\r\n",
        "scaler = StandardScaler()\r\n",
        "scaler.fit(X_train)\r\n",
        "X_train = scaler.transform(X_train)\r\n",
        "X_test = scaler.transform(X_test)\r\n",
        "\r\n",
        "# Training and Predictions\r\n",
        "from sklearn.neighbors import KNeighborsClassifier\r\n",
        "classifier = KNeighborsClassifier(algorithm='auto', leaf_size=20, metric='minkowski',\r\n",
        "                     metric_params=None, n_jobs=None, n_neighbors=5, p=3,\r\n",
        "                     weights='uniform')\r\n",
        "classifier.fit(X_train, y_train)\r\n",
        "\r\n",
        "# The final step is to make predictions on our test data\r\n",
        "y_pred = classifier.predict(X_test)\r\n",
        "\r\n",
        "# Evaluating the Algorithm\r\n",
        "from sklearn.metrics import accuracy_score\r\n",
        "from sklearn.metrics import f1_score\r\n",
        "from sklearn.metrics import classification_report, confusion_matrix\r\n",
        "print('Accuracy score =:', accuracy_score(y_test, y_pred))\r\n",
        "print('f1 score=',  f1_score(y_test, y_pred))\r\n",
        "print(confusion_matrix(y_test, y_pred))\r\n",
        "print(classification_report(y_test, y_pred))\r\n"
      ],
      "execution_count": 69,
      "outputs": [
        {
          "output_type": "stream",
          "text": [
            "Accuracy score =: 1.0\n",
            "f1 score= 0.0\n",
            "[[168]]\n",
            "              precision    recall  f1-score   support\n",
            "\n",
            "           0       1.00      1.00      1.00       168\n",
            "\n",
            "    accuracy                           1.00       168\n",
            "   macro avg       1.00      1.00      1.00       168\n",
            "weighted avg       1.00      1.00      1.00       168\n",
            "\n"
          ],
          "name": "stdout"
        }
      ]
    },
    {
      "cell_type": "code",
      "metadata": {
        "colab": {
          "base_uri": "https://localhost:8080/"
        },
        "id": "rj7OXk73njNf",
        "outputId": "74dc5ed5-2542-4de5-b812-12d3350cdf9d"
      },
      "source": [
        "# Assessing the errors\r\n",
        "print('Mean Absolute Error:', metrics.mean_absolute_error(y_test, y_pred))  \r\n",
        "print('Mean Squared Error:', metrics.mean_squared_error(y_test, y_pred))  \r\n",
        "print('Root Mean Squared Error:', np.sqrt(metrics.mean_squared_error(y_test, y_pred)))"
      ],
      "execution_count": 70,
      "outputs": [
        {
          "output_type": "stream",
          "text": [
            "Mean Absolute Error: 0.0\n",
            "Mean Squared Error: 0.0\n",
            "Root Mean Squared Error: 0.0\n"
          ],
          "name": "stdout"
        }
      ]
    },
    {
      "cell_type": "markdown",
      "metadata": {
        "id": "VE_ir5jkupVa"
      },
      "source": [
        "## Predicting Using the test dataset."
      ]
    },
    {
      "cell_type": "code",
      "metadata": {
        "colab": {
          "base_uri": "https://localhost:8080/"
        },
        "id": "uKUvviJ6kqC2",
        "outputId": "82b047d1-1f69-4db2-cea7-ba4ffb5e8012"
      },
      "source": [
        "# Using the test data to predict the survival\r\n",
        "test_prediction = classifier.predict(test)\r\n",
        "test_prediction"
      ],
      "execution_count": 74,
      "outputs": [
        {
          "output_type": "execute_result",
          "data": {
            "text/plain": [
              "array([0, 0, 0, 0, 0, 0, 0, 0, 0, 0, 0, 0, 0, 0, 0, 0, 0, 0, 0, 0, 0, 0,\n",
              "       0, 0, 0, 0, 0, 0, 0, 0, 0, 0, 0, 0, 0, 0, 0, 0, 0, 0, 0, 0, 0, 0,\n",
              "       0, 0, 0, 0, 0, 0, 0, 0, 0, 0, 0, 0, 0, 0, 0, 0, 0, 0, 0, 0, 0, 0,\n",
              "       0, 0, 0, 0, 0, 0, 0, 0, 0, 0, 0, 0, 0, 0, 0, 0, 0, 0, 0, 0, 0, 0,\n",
              "       0, 0, 0, 0, 0, 0, 0, 0, 0, 0, 0, 0, 0, 0, 0, 0, 0, 0, 0, 0, 0, 0,\n",
              "       0, 0, 0, 0, 0, 0, 0, 0, 0, 0, 0, 0, 0, 0, 0, 0, 0, 0, 0, 0, 0, 0,\n",
              "       0, 0, 0, 0, 0, 0, 0, 0, 0, 0, 0, 0, 0, 0, 0, 0, 0, 0, 0, 0, 0, 0,\n",
              "       0, 0, 0, 0, 0, 0, 0, 0, 0, 0, 0, 0, 0, 0, 0, 0, 0, 0, 0, 0, 0, 0,\n",
              "       0, 0, 0, 0, 0, 0, 0, 0, 0, 0, 0, 0, 0, 0, 0, 0, 0, 0, 0, 0, 0, 0,\n",
              "       0, 0, 0, 0, 0, 0, 0, 0, 0, 0, 0, 0, 0, 0, 0, 0, 0, 0, 0, 0, 0, 0,\n",
              "       0, 0, 0, 0, 0, 0, 0, 0, 0, 0, 0, 0, 0, 0, 0, 0, 0, 0, 0, 0, 0, 0,\n",
              "       0, 0, 0, 0, 0, 0, 0, 0, 0, 0, 0, 0, 0, 0, 0, 0, 0, 0, 0, 0, 0, 0,\n",
              "       0, 0, 0, 0, 0, 0, 0, 0, 0, 0, 0, 0, 0, 0, 0, 0, 0, 0, 0, 0, 0, 0,\n",
              "       0, 0, 0, 0, 0, 0, 0, 0, 0, 0, 0, 0, 0, 0, 0, 0, 0, 0, 0, 0, 0, 0,\n",
              "       0, 0, 0, 0, 0, 0, 0, 0, 0, 0, 0, 0, 0, 0, 0, 0, 0, 0, 0, 0, 0, 0,\n",
              "       0, 0, 0, 0, 0, 0, 0, 0, 0, 0, 0, 0, 0, 0, 0, 0, 0, 0, 0, 0, 0, 0,\n",
              "       0, 0, 0, 0, 0, 0, 0, 0, 0, 0, 0, 0, 0, 0, 0, 0, 0, 0, 0, 0, 0, 0,\n",
              "       0, 0, 0, 0, 0, 0, 0, 0, 0, 0, 0, 0, 0, 0, 0, 0, 0, 0, 0, 0, 0, 0,\n",
              "       0, 0, 0, 0, 0, 0, 0, 0, 0, 0, 0, 0, 0, 0, 0, 0, 0, 0, 0, 0, 0, 0])"
            ]
          },
          "metadata": {
            "tags": []
          },
          "execution_count": 74
        }
      ]
    },
    {
      "cell_type": "code",
      "metadata": {
        "colab": {
          "base_uri": "https://localhost:8080/",
          "height": 198
        },
        "id": "HzAsfXDYv8QG",
        "outputId": "cb0943b2-8988-4225-bac2-0f88ba96b117"
      },
      "source": [
        "# Testing the model using the test data\r\n",
        "predicts = pd.Series(classifier.predict(test), name='Survived')\r\n",
        "input_ = test[['Pclass', 'Sex', 'Age', 'SibSp', 'Parch']]\r\n",
        "# Joining the input and output\r\n",
        "output = pd.concat([input_, predicts], axis=1)\r\n",
        "output.head()"
      ],
      "execution_count": 77,
      "outputs": [
        {
          "output_type": "execute_result",
          "data": {
            "text/html": [
              "<div>\n",
              "<style scoped>\n",
              "    .dataframe tbody tr th:only-of-type {\n",
              "        vertical-align: middle;\n",
              "    }\n",
              "\n",
              "    .dataframe tbody tr th {\n",
              "        vertical-align: top;\n",
              "    }\n",
              "\n",
              "    .dataframe thead th {\n",
              "        text-align: right;\n",
              "    }\n",
              "</style>\n",
              "<table border=\"1\" class=\"dataframe\">\n",
              "  <thead>\n",
              "    <tr style=\"text-align: right;\">\n",
              "      <th></th>\n",
              "      <th>Pclass</th>\n",
              "      <th>Sex</th>\n",
              "      <th>Age</th>\n",
              "      <th>SibSp</th>\n",
              "      <th>Parch</th>\n",
              "      <th>Survived</th>\n",
              "    </tr>\n",
              "  </thead>\n",
              "  <tbody>\n",
              "    <tr>\n",
              "      <th>0</th>\n",
              "      <td>3</td>\n",
              "      <td>1</td>\n",
              "      <td>34.5</td>\n",
              "      <td>0</td>\n",
              "      <td>0</td>\n",
              "      <td>0</td>\n",
              "    </tr>\n",
              "    <tr>\n",
              "      <th>1</th>\n",
              "      <td>3</td>\n",
              "      <td>0</td>\n",
              "      <td>47.0</td>\n",
              "      <td>1</td>\n",
              "      <td>0</td>\n",
              "      <td>0</td>\n",
              "    </tr>\n",
              "    <tr>\n",
              "      <th>2</th>\n",
              "      <td>2</td>\n",
              "      <td>1</td>\n",
              "      <td>62.0</td>\n",
              "      <td>0</td>\n",
              "      <td>0</td>\n",
              "      <td>0</td>\n",
              "    </tr>\n",
              "    <tr>\n",
              "      <th>3</th>\n",
              "      <td>3</td>\n",
              "      <td>1</td>\n",
              "      <td>27.0</td>\n",
              "      <td>0</td>\n",
              "      <td>0</td>\n",
              "      <td>0</td>\n",
              "    </tr>\n",
              "    <tr>\n",
              "      <th>4</th>\n",
              "      <td>3</td>\n",
              "      <td>0</td>\n",
              "      <td>22.0</td>\n",
              "      <td>1</td>\n",
              "      <td>1</td>\n",
              "      <td>0</td>\n",
              "    </tr>\n",
              "  </tbody>\n",
              "</table>\n",
              "</div>"
            ],
            "text/plain": [
              "   Pclass  Sex   Age  SibSp  Parch  Survived\n",
              "0       3    1  34.5      0      0         0\n",
              "1       3    0  47.0      1      0         0\n",
              "2       2    1  62.0      0      0         0\n",
              "3       3    1  27.0      0      0         0\n",
              "4       3    0  22.0      1      1         0"
            ]
          },
          "metadata": {
            "tags": []
          },
          "execution_count": 77
        }
      ]
    },
    {
      "cell_type": "markdown",
      "metadata": {
        "id": "rVFor-G8a2B_"
      },
      "source": [
        "# Challenging the Solution."
      ]
    },
    {
      "cell_type": "code",
      "metadata": {
        "colab": {
          "base_uri": "https://localhost:8080/"
        },
        "id": "Sfr26erHa9i9",
        "outputId": "b7dda133-a014-4c90-d133-f76dc5e88375"
      },
      "source": [
        "# Reviewing the Solution \r\n",
        "# compare algorithms\r\n",
        "from sklearn.model_selection import cross_val_score\r\n",
        "from sklearn.model_selection import StratifiedKFold\r\n",
        "from sklearn.linear_model import LogisticRegression\r\n",
        "from sklearn.tree import DecisionTreeClassifier\r\n",
        "from sklearn.neighbors import KNeighborsClassifier\r\n",
        "from sklearn.discriminant_analysis import LinearDiscriminantAnalysis\r\n",
        "from sklearn.naive_bayes import GaussianNB\r\n",
        "from sklearn.svm import SVC\r\n",
        "from sklearn.ensemble import RandomForestClassifier\r\n",
        "from sklearn.ensemble import GradientBoostingClassifier\r\n",
        "\r\n",
        "\r\n",
        "# Declaring our X and y variables\r\n",
        "X = train.loc[:, variables].values\r\n",
        "y = train.loc[:,['Survived']].values\r\n",
        "\r\n",
        "# Splitting the data into training and test sets,\r\n",
        "X_train, X_test, y_train, y_test = train_test_split(X, y, test_size=0.2, random_state=0)\r\n",
        "\r\n",
        "# Spot Check Algorithms\r\n",
        "models = []\r\n",
        "models.append(('LR', LogisticRegression(solver='liblinear', multi_class='ovr')))\r\n",
        "models.append(('LDA', LinearDiscriminantAnalysis()))\r\n",
        "models.append(('KNN', KNeighborsClassifier()))\r\n",
        "models.append(('CART', DecisionTreeClassifier()))\r\n",
        "models.append(('RF', RandomForestClassifier()))\r\n",
        "models.append(('GBC', GradientBoostingClassifier()))\r\n",
        "models.append(('NB', GaussianNB()))\r\n",
        "models.append(('SVM', SVC(gamma='auto')))\r\n",
        "# evaluate each model in turn\r\n",
        "# evaluate each model in turn\r\n",
        "results = []\r\n",
        "names = []\r\n",
        "for name, model in models:\r\n",
        "\tkfold = StratifiedKFold(n_splits=10, random_state=1, shuffle=True)\r\n",
        "\tcv_results = cross_val_score(model, X_train, y_train, cv=kfold, scoring='accuracy')\r\n",
        "\tresults.append(cv_results)\r\n",
        "\tnames.append(name)\r\n",
        "\tprint('%s: %f (%f)' % (name, cv_results.mean(), cv_results.std()))"
      ],
      "execution_count": 76,
      "outputs": [
        {
          "output_type": "stream",
          "text": [
            "LR: 0.798963 (0.049325)\n",
            "LDA: 0.790513 (0.049926)\n",
            "KNN: 0.761033 (0.046534)\n",
            "CART: 0.784996 (0.044532)\n",
            "RF: 0.791980 (0.056440)\n",
            "GBC: 0.814495 (0.036480)\n",
            "NB: 0.762520 (0.046784)\n",
            "SVM: 0.797555 (0.052069)\n"
          ],
          "name": "stdout"
        }
      ]
    },
    {
      "cell_type": "markdown",
      "metadata": {
        "id": "zR4imNSlhuWH"
      },
      "source": [
        "# Conclusion.\r\n",
        "\r\n",
        "* From the prediction models used, Gradient Boost Classifier was found to have the highest accuracy of 81.6% compared to other models.\r\n",
        "\r\n",
        "* It is recommended to use the Gradient Boost as the prediction model for survival."
      ]
    }
  ]
}